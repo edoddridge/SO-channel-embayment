{
 "cells": [
  {
   "cell_type": "code",
   "execution_count": 55,
   "id": "598fabd3-621f-4db4-b0aa-12d775f64e79",
   "metadata": {},
   "outputs": [],
   "source": [
    "import xarray as xr\n",
    "import xmitgcm\n",
    "import xgcm\n",
    "import matplotlib.pyplot as plt\n",
    "%matplotlib inline\n",
    "import numpy as np\n",
    "import ipywidgets\n",
    "import dask\n",
    "import cmocean\n",
    "import pandas as pd"
   ]
  },
  {
   "cell_type": "raw",
   "id": "b2eb3971-ebcb-4516-91d2-364fd79aaa84",
   "metadata": {},
   "source": [
    "\n",
    "from dask.distributed import Client,Scheduler\n",
    "from dask_jobqueue import SLURMCluster"
   ]
  },
  {
   "cell_type": "raw",
   "id": "f1c6f65f-4f80-48fb-96ab-243ba0d1e3dc",
   "metadata": {},
   "source": [
    "cluster = SLURMCluster(cores=16,memory=\"47GB\")\n",
    "client = Client(cluster)\n",
    "\n"
   ]
  },
  {
   "cell_type": "raw",
   "id": "f17c48a5-d758-4cf2-a402-91eef1d86f82",
   "metadata": {},
   "source": [
    "# use to expand cluster as needed\n",
    "cluster.scale(cores=16)"
   ]
  },
  {
   "cell_type": "raw",
   "id": "448d7865-4460-4719-948d-47d10e3d4da6",
   "metadata": {},
   "source": [
    "print(client)"
   ]
  },
  {
   "cell_type": "code",
   "execution_count": null,
   "id": "525d1937-e411-4914-b95a-7a2848927113",
   "metadata": {},
   "outputs": [],
   "source": []
  },
  {
   "cell_type": "code",
   "execution_count": null,
   "id": "5d7b1e87-6cbe-4d83-ba7a-a6622c5b1315",
   "metadata": {},
   "outputs": [],
   "source": []
  },
  {
   "cell_type": "code",
   "execution_count": 2,
   "id": "79688a90-334b-47a0-bcf6-36eeb74abbc6",
   "metadata": {},
   "outputs": [],
   "source": [
    "model_dir = '/g/data/jk72/ed7737/SO-channel_embayment/simulations/run/'"
   ]
  },
  {
   "cell_type": "code",
   "execution_count": 73,
   "id": "9b51c818-ed7e-45ff-9b58-ee096aaf6bb8",
   "metadata": {},
   "outputs": [],
   "source": [
    "ds_2d = xmitgcm.open_mdsdataset(data_dir=model_dir+'/Diags/', grid_dir=model_dir, prefix=['2D_diags'], delta_t=500, calendar='360_day', ref_date='2000-1-1 0:0:0')"
   ]
  },
  {
   "cell_type": "code",
   "execution_count": 74,
   "id": "c4f298a6-0cb4-4085-879b-45cc0bcd035c",
   "metadata": {},
   "outputs": [],
   "source": [
    "ds_seaice = xmitgcm.open_mdsdataset(data_dir=model_dir+'/Diags/', grid_dir=model_dir, prefix=['seaIceDiag'], delta_t=500, calendar='360_day', ref_date='2000-1-1 0:0:0')"
   ]
  },
  {
   "cell_type": "code",
   "execution_count": 75,
   "id": "b35dee2e-abf7-4a89-a815-fe74e59f776c",
   "metadata": {},
   "outputs": [],
   "source": [
    "ds_momentum = xmitgcm.open_mdsdataset(data_dir=model_dir+'/Diags/', grid_dir=model_dir, prefix=['Momentum_diags'], delta_t=500, calendar='360_day', ref_date='2000-1-1 0:0:0')"
   ]
  },
  {
   "cell_type": "code",
   "execution_count": 76,
   "id": "f76e705e-6e01-4dc3-9d92-cd24243b90d3",
   "metadata": {},
   "outputs": [],
   "source": [
    "ds_EXF = xmitgcm.open_mdsdataset(data_dir=model_dir+'/Diags/', grid_dir=model_dir, prefix=['EXF_diags'], delta_t=500, calendar='360_day', ref_date='2000-1-1 0:0:0')"
   ]
  },
  {
   "cell_type": "code",
   "execution_count": 77,
   "id": "b2cabb4b-3fc3-4bc4-be80-82085b4ee50f",
   "metadata": {},
   "outputs": [],
   "source": [
    "ds_layers = xmitgcm.open_mdsdataset(data_dir=model_dir+'/Diags/', grid_dir=model_dir, prefix=['layDiag'], delta_t=500, calendar='360_day', ref_date='2000-1-1 0:0:0')\n",
    "\n",
    "layer_bounds = np.array([33.0, 33.5, 34.0, 34.2,\n",
    "                         34.4, 34.6, 34.8, 35.0, 35.2,\n",
    "                         35.3, 35.4, 35.5, 35.6, 35.7,\n",
    "                         35.8, 35.9, 36.0, 36.1, 36.2,\n",
    "                         36.3, 36.4, 36.5, 36.6, 36.7,\n",
    "                         36.75,\n",
    "                         36.80, 36.84, 36.88, 36.92, 36.96,\n",
    "                         37.00, 37.04, 37.08, 37.12, 37.16,\n",
    "                         37.20, 37.24, 37.28, 37.32, 37.36,\n",
    "                         37.40, 37.44, 37.48, 37.52, 37.56,\n",
    "                         37.60, 37.64, 37.68, 37.72, 37.76,\n",
    "                         37.80])\n",
    "layer_midpoints = (layer_bounds[1:] + layer_bounds[:-1])/2.\n",
    "\n",
    "ds_layers = ds_layers.rename_dims({'_UNKNOWN_':'layer_pot_dens'})\n",
    "ds_layers = ds_layers.assign_coords(layer_pot_dens=layer_midpoints)\n"
   ]
  },
  {
   "cell_type": "code",
   "execution_count": null,
   "id": "d8300b92-3f2d-4d8a-b598-2ecf28fe9150",
   "metadata": {},
   "outputs": [],
   "source": [
    "ds_state = xmitgcm.open_mdsdataset(data_dir=model_dir+'/Diags/', grid_dir=model_dir, prefix=['state'], delta_t=500, calendar='360_day', ref_date='2000-1-1 0:0:0')"
   ]
  },
  {
   "cell_type": "code",
   "execution_count": null,
   "id": "7d3653f8-06fd-4235-989a-336587b3d175",
   "metadata": {},
   "outputs": [],
   "source": [
    "ds_state['drW'] = ds_state.hFacW * ds_state.drF #vertical cell size at u point\n",
    "ds_state['drS'] = ds_state.hFacS * ds_state.drF #vertical cell size at v point\n",
    "ds_state['drC'] = ds_state.hFacC * ds_state.drF #vertical cell size at tracer point\n",
    "\n",
    "metrics = {\n",
    "    ('X',): ['dxC', 'dxG'], # X distances\n",
    "    ('Y',): ['dyC', 'dyG'], # Y distances\n",
    "    ('Z',): ['drW', 'drS', 'drC'], # Z distances\n",
    "    ('X', 'Y'): ['rA', 'rAz', 'rAs', 'rAw'] # Areas\n",
    "}\n",
    "\n",
    "grid = xgcm.Grid(ds_state, periodic=['X'], metrics=metrics)\n",
    "grid"
   ]
  },
  {
   "cell_type": "code",
   "execution_count": null,
   "id": "6d79f973-3959-4dd3-82c0-16a3b4c9414e",
   "metadata": {},
   "outputs": [],
   "source": [
    "ds_2d"
   ]
  },
  {
   "cell_type": "code",
   "execution_count": null,
   "id": "05fcd543-2da1-4ddd-9f24-209224c5224e",
   "metadata": {},
   "outputs": [],
   "source": []
  },
  {
   "cell_type": "code",
   "execution_count": null,
   "id": "3026421f-36a5-4e8d-8a74-12ef9ba0675e",
   "metadata": {},
   "outputs": [],
   "source": [
    "ds_2d['TFLUX'].sel(time=ds_2d['time'][-1]).plot()"
   ]
  },
  {
   "cell_type": "code",
   "execution_count": null,
   "id": "1828c8c5-5686-41ad-99c3-79323d6ba247",
   "metadata": {},
   "outputs": [],
   "source": [
    "ds_state['THETA'].sel(Z=0, method='nearest').sel(time=ds_state['time'][-1], method='nearest').plot()"
   ]
  },
  {
   "cell_type": "code",
   "execution_count": null,
   "id": "64af780b-d0a2-4c64-8faf-3f0da13e2427",
   "metadata": {},
   "outputs": [],
   "source": [
    "def plot_temperature(i, xloc):\n",
    "    fig, ax = plt.subplots(1,2, figsize=(13,4))\n",
    "    \n",
    "    ds_state['THETA'].sel(XC=xloc, method='nearest').sel(time=ds_state['time'][i], method='nearest').plot(ax=ax[0],\n",
    "                                                                                                          vmin=-2, vmax=15,\n",
    "                                                                                                         cmap=cmocean.cm.thermal)\n",
    "    (-ds_2d['MXLDEPTH'].sel(XC=xloc, method='nearest').sel(time=ds_2d['time'][i])).plot(color='k', ax=ax[0])\n",
    "    \n",
    "    ds_2d['MXLDEPTH'].sel(time=ds_2d['time'][i]).plot.contour(ax=ax[1],\n",
    "                                                             levels=[1,10,50,\n",
    "                                                                     100,200,300,400,500,600,700,800,900,1000,\n",
    "                                                                     1200,1400,1600,1800,2000])\n",
    "    ds_state['THETA'].sel(Z=0, method='nearest').sel(time=ds_state['time'][i], method='nearest').plot(ax=ax[1],\n",
    "                                                                                                      vmin=-2, vmax=15,\n",
    "                                                                                                      cmap=cmocean.cm.thermal)\n",
    "    ds_seaice['SI_Fract'].sel(time=ds_seaice['time'][i]).where(\n",
    "            ds_seaice['SI_Fract'].sel(time=ds_seaice['time'][i])>0.15).plot(cmap='binary_r', ax=ax[1], vmin=0, vmax=1, zorder=3)\n",
    "\n",
    "\n",
    "    \n"
   ]
  },
  {
   "cell_type": "code",
   "execution_count": null,
   "id": "827ebcac-3cf3-45e4-95bc-e07de5c2413e",
   "metadata": {},
   "outputs": [],
   "source": [
    "t_max = min(ds_state['time'].shape[0]-1, ds_2d['time'].shape[0]-1)\n",
    "\n",
    "ipywidgets.interactive(plot_temperature,\n",
    "                       i=ipywidgets.IntSlider(value=t_max, min=0,max=t_max),\n",
    "                       xloc=ipywidgets.FloatSlider(value=400e3, min=0,max=1e6, step=10e3))"
   ]
  },
  {
   "cell_type": "code",
   "execution_count": null,
   "id": "fac43c29-f226-432f-8d9f-0c1c60369cfe",
   "metadata": {},
   "outputs": [],
   "source": [
    "heat = grid.average(ds_state['THETA'].where(ds_state['SALT']>0), ['X','Y'])"
   ]
  },
  {
   "cell_type": "code",
   "execution_count": null,
   "id": "469403d7-260f-4ebb-befa-97f84f38b1f2",
   "metadata": {},
   "outputs": [],
   "source": [
    "heat.sel(Z=0, method='nearest').plot(label='Z=0')\n",
    "heat.sel(Z=-1000, method='nearest').plot(label='Z=-1000')\n",
    "heat.sel(Z=-2000, method='nearest').plot(label='Z=-2000')\n",
    "heat.sel(Z=-3000, method='nearest').plot(label='Z=-3000')\n",
    "heat.sel(Z=-4000, method='nearest').plot(label='Z=-4000')\n",
    "\n",
    "\n",
    "plt.legend()"
   ]
  },
  {
   "cell_type": "code",
   "execution_count": null,
   "id": "3cbc1087-f44b-4c50-8449-4d9710629f97",
   "metadata": {},
   "outputs": [],
   "source": [
    "# change in temperature\n",
    "xloc = 400e3\n",
    "(ds_state['THETA'].sel(XC=xloc, method='nearest').sel(time=ds_state['time'][-1], method='nearest') - \n",
    "    ds_state['THETA'].sel(XC=xloc, method='nearest').sel(time=ds_state['time'][0], method='nearest')).plot(vmin=-3, vmax=3, cmap='RdBu_r')\n",
    "(-ds_2d['MXLDEPTH'].sel(XC=xloc, method='nearest').sel(time=ds_2d['time'][-1])).plot(color='k')"
   ]
  },
  {
   "cell_type": "code",
   "execution_count": null,
   "id": "f68b27c7-9371-428a-820e-1267d7fc138f",
   "metadata": {},
   "outputs": [],
   "source": [
    "def plot_salinity(i, xloc):\n",
    "    fig, ax = plt.subplots(1,2, figsize=(13,4))\n",
    "    \n",
    "    ds_state['SALT'].sel(XC=xloc, method='nearest').sel(time=ds_state['time'][i], method='nearest').plot(ax=ax[0],\n",
    "                                                                                                          vmin=34, vmax=35,\n",
    "                                                                                                         cmap=cmocean.cm.haline)\n",
    "    (-ds_2d['MXLDEPTH'].sel(XC=xloc, method='nearest').sel(time=ds_2d['time'][i])).plot(color='k', ax=ax[0])\n",
    "    \n",
    "    ds_2d['MXLDEPTH'].sel(time=ds_2d['time'][i]).plot.contour(ax=ax[1],\n",
    "                                                             levels=[1,10,50,\n",
    "                                                                     100,200,300,400,500,600,700,800,900,1000,\n",
    "                                                                     1200,1400,1600,1800,2000])\n",
    "    ds_state['SALT'].sel(Z=0, method='nearest').sel(time=ds_state['time'][i], method='nearest').plot(ax=ax[1],\n",
    "                                                                                                      vmin=34, vmax=35,\n",
    "                                                                                                      cmap=cmocean.cm.haline)\n",
    "    ds_seaice['SI_Fract'].sel(time=ds_seaice['time'][i]).where(\n",
    "            ds_seaice['SI_Fract'].sel(time=ds_seaice['time'][i])>0.15).plot(cmap='binary_r', ax=ax[1], vmin=0, vmax=1, zorder=3)\n",
    "\n",
    "\n",
    "    \n",
    "\n"
   ]
  },
  {
   "cell_type": "code",
   "execution_count": null,
   "id": "1f3822db-88a3-4426-9b57-3bf14b7c9722",
   "metadata": {},
   "outputs": [],
   "source": [
    "t_max = min(ds_state['time'].shape[0]-1, ds_2d['time'].shape[0]-1)\n",
    "\n",
    "ipywidgets.interactive(plot_salinity,\n",
    "                       i=ipywidgets.IntSlider(value=t_max, min=0,max=t_max),\n",
    "                       xloc=ipywidgets.FloatSlider(value=400e3, min=0,max=1e6, step=10e3))"
   ]
  },
  {
   "cell_type": "code",
   "execution_count": null,
   "id": "6975c381-dc58-44ad-94ae-d5632cd4445d",
   "metadata": {},
   "outputs": [],
   "source": [
    "salinity = grid.average(ds_state['SALT'].where(ds_state['SALT']>0), ['X','Y'])\n",
    "\n",
    "salinity.sel(Z=0, method='nearest').plot(label='Z=0')\n",
    "salinity.sel(Z=-1000, method='nearest').plot(label='Z=-1000')\n",
    "salinity.sel(Z=-2000, method='nearest').plot(label='Z=-2000')\n",
    "salinity.sel(Z=-3000, method='nearest').plot(label='Z=-3000')\n",
    "salinity.sel(Z=-4000, method='nearest').plot(label='Z=-4000')\n",
    "\n",
    "\n",
    "\n",
    "plt.legend()"
   ]
  },
  {
   "cell_type": "code",
   "execution_count": null,
   "id": "3da89833-98e1-417d-b9d2-4a270059253a",
   "metadata": {},
   "outputs": [],
   "source": [
    "# change in salinity\n",
    "xloc = 400e3\n",
    "(ds_state['SALT'].sel(XC=xloc, method='nearest').sel(time=ds_state['time'][-1], method='nearest') - \n",
    "    ds_state['SALT'].sel(XC=xloc, method='nearest').sel(time=ds_state['time'][0], method='nearest')).plot(vmin=-.5, vmax=.5, cmap='RdBu_r')\n",
    "(-ds_2d['MXLDEPTH'].sel(XC=xloc, method='nearest').sel(time=ds_2d['time'][-1])).plot(color='k')"
   ]
  },
  {
   "cell_type": "code",
   "execution_count": null,
   "id": "100063f2-3c77-4e27-9db4-460bf796752a",
   "metadata": {},
   "outputs": [],
   "source": [
    "xloc = 400e3\n",
    "ds_state['THETA'].sel(XC=xloc, method='nearest').sel(time=ds_state['time'][-1], method='nearest').plot()\n",
    "(-ds_2d['MXLDEPTH'].sel(XC=xloc, method='nearest').sel(time=ds_2d['time'][-1])).plot(color='k')"
   ]
  },
  {
   "cell_type": "code",
   "execution_count": null,
   "id": "441e6ff0-c7e0-4ce0-b7e1-4df0ec59a04e",
   "metadata": {},
   "outputs": [],
   "source": []
  },
  {
   "cell_type": "code",
   "execution_count": null,
   "id": "f5f7324f-458c-4700-9ece-c368332ad4f1",
   "metadata": {},
   "outputs": [],
   "source": [
    "ds_2d['MXLDEPTH'].sel(time=ds_2d['time'][-1], method='nearest').plot()"
   ]
  },
  {
   "cell_type": "code",
   "execution_count": null,
   "id": "764982b9-6931-4f7d-9fc7-ca0dccd0ce8b",
   "metadata": {},
   "outputs": [],
   "source": [
    "ds_state['SALT'].sel(XC=400e3, method='nearest').sel(time=ds_state['time'][-1], method='nearest').plot(vmin=34, vmax=35)"
   ]
  },
  {
   "cell_type": "code",
   "execution_count": null,
   "id": "10b7bb6c-a5e8-4cbb-9f7b-6a4ea82670d8",
   "metadata": {},
   "outputs": [],
   "source": [
    "ds_state['UVEL'].sel(Z=0, method='nearest').sel(time=ds_state['time'][-1]).plot()"
   ]
  },
  {
   "cell_type": "code",
   "execution_count": null,
   "id": "5e9b25ed-5f69-4f2f-99c0-23221893c033",
   "metadata": {},
   "outputs": [],
   "source": [
    "ds_state['UVEL'].mean(dim='XG').sel(time=ds_state['time'][-1]).plot()"
   ]
  },
  {
   "cell_type": "code",
   "execution_count": null,
   "id": "139a0df3-2dbd-41be-b908-a21de3f77de4",
   "metadata": {},
   "outputs": [],
   "source": [
    "ds_state['VVEL'].mean(dim='XC').sel(time=ds_state['time'][-1]).plot()"
   ]
  },
  {
   "cell_type": "code",
   "execution_count": null,
   "id": "87bf95fb-079f-4444-940d-0e166527111e",
   "metadata": {},
   "outputs": [],
   "source": [
    "transport = grid.integrate(ds_state.UVEL, ['Y', 'Z'])"
   ]
  },
  {
   "cell_type": "code",
   "execution_count": null,
   "id": "4fbc402a-2028-40b2-8081-193212ea9d65",
   "metadata": {},
   "outputs": [],
   "source": [
    "transport.sel(XG=400e3, method='nearest').plot()"
   ]
  },
  {
   "cell_type": "code",
   "execution_count": null,
   "id": "50d5349a-af75-4e72-a7fc-b113629ee2f2",
   "metadata": {},
   "outputs": [],
   "source": [
    "ds_state['VVEL'].sel(Z=0, method='nearest').sel(time=ds_state['time'][-1]).plot()"
   ]
  },
  {
   "cell_type": "markdown",
   "id": "7736bf6b-aa1a-40a8-9ddf-216f1265fd2d",
   "metadata": {},
   "source": [
    "## Sea Ice"
   ]
  },
  {
   "cell_type": "code",
   "execution_count": null,
   "id": "524a4c26-1cfb-439f-9489-ac31b9d004df",
   "metadata": {},
   "outputs": [],
   "source": [
    "ds_seaice['SI_Fract'].sel(time=ds_seaice['time'][-1]).plot()"
   ]
  },
  {
   "cell_type": "code",
   "execution_count": null,
   "id": "bed0b2cb-a10d-4174-9816-75c5563c6fdd",
   "metadata": {},
   "outputs": [],
   "source": [
    "sea_ice_time_series = grid.integrate(ds_seaice['SI_Fract'], ['X', 'Y'])/1e12 # in millions of square km"
   ]
  },
  {
   "cell_type": "code",
   "execution_count": null,
   "id": "a3fb0801-c4e0-4666-8623-34c8f649680d",
   "metadata": {},
   "outputs": [],
   "source": [
    "sea_ice_time_series.plot()"
   ]
  },
  {
   "cell_type": "markdown",
   "id": "f3d708a8-3d92-4d1c-830a-28b394908a5e",
   "metadata": {},
   "source": [
    "## vorticity"
   ]
  },
  {
   "cell_type": "code",
   "execution_count": null,
   "id": "439d337a-6685-40a8-b4c7-750c820d75bb",
   "metadata": {},
   "outputs": [],
   "source": [
    "zeta = (-grid.diff(ds_state.UVEL * ds_state.dxC, 'Y') + grid.diff(ds_state.VVEL * ds_state.dyC, 'X'))/ds_state.rAz\n"
   ]
  },
  {
   "cell_type": "code",
   "execution_count": null,
   "id": "230ff97f-409e-4e69-8a40-67884f4e59bd",
   "metadata": {},
   "outputs": [],
   "source": [
    "zeta.sel(Z=0, method='nearest').sel(time=ds_state['time'][-1]).plot()"
   ]
  },
  {
   "cell_type": "markdown",
   "id": "f223d488-0dfe-43ae-ab24-dc9be6108b02",
   "metadata": {},
   "source": [
    "## Layers\n"
   ]
  },
  {
   "cell_type": "code",
   "execution_count": null,
   "id": "29c8a6b0-8d64-4535-9d1d-22cbc3125e88",
   "metadata": {},
   "outputs": [],
   "source": [
    "ds_layers"
   ]
  },
  {
   "cell_type": "code",
   "execution_count": null,
   "id": "4c0f9847-8282-4580-a2cb-52a2f7d26394",
   "metadata": {},
   "outputs": [],
   "source": [
    "ds_layers['LaVH3RHO'].mean(dim='XC').cumsum(dim='layer_density').sel(time=ds_layers['time'][-1]).plot()"
   ]
  },
  {
   "cell_type": "code",
   "execution_count": null,
   "id": "96838e9a-7801-453d-ab7c-c3d628bc12a0",
   "metadata": {},
   "outputs": [],
   "source": []
  },
  {
   "cell_type": "code",
   "execution_count": null,
   "id": "3bfeab08-ee11-49a3-bc58-dd9f97c7d911",
   "metadata": {},
   "outputs": [],
   "source": []
  },
  {
   "cell_type": "code",
   "execution_count": null,
   "id": "3ac97ccb-cc40-4407-97ff-60e3c735da46",
   "metadata": {},
   "outputs": [],
   "source": []
  },
  {
   "cell_type": "code",
   "execution_count": null,
   "id": "e2ac9365-d931-416e-8784-02195d2d8306",
   "metadata": {},
   "outputs": [],
   "source": []
  },
  {
   "cell_type": "code",
   "execution_count": null,
   "id": "824431da-5ede-4406-bd69-9504929b62e4",
   "metadata": {},
   "outputs": [],
   "source": []
  },
  {
   "cell_type": "code",
   "execution_count": null,
   "id": "1b5612e4-364c-4a66-ae3a-18c6d982445a",
   "metadata": {},
   "outputs": [],
   "source": []
  },
  {
   "cell_type": "code",
   "execution_count": null,
   "id": "6db286f8-a29f-4e3e-93bb-ea512fda09e5",
   "metadata": {},
   "outputs": [],
   "source": []
  },
  {
   "cell_type": "code",
   "execution_count": null,
   "id": "c5de42ee-df0d-4dd0-bf21-042f3f77b429",
   "metadata": {},
   "outputs": [],
   "source": []
  }
 ],
 "metadata": {
  "kernelspec": {
   "display_name": "Python [conda env:analysis3-22.04]",
   "language": "python",
   "name": "conda-env-analysis3-22.04-py"
  },
  "language_info": {
   "codemirror_mode": {
    "name": "ipython",
    "version": 3
   },
   "file_extension": ".py",
   "mimetype": "text/x-python",
   "name": "python",
   "nbconvert_exporter": "python",
   "pygments_lexer": "ipython3",
   "version": "3.9.13"
  }
 },
 "nbformat": 4,
 "nbformat_minor": 5
}
