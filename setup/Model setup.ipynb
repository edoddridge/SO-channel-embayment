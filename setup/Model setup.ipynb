{
 "cells": [
  {
   "cell_type": "markdown",
   "id": "1e6f15a9",
   "metadata": {},
   "source": [
    "# MITgcm channel model with bathymetry and embayment\n",
    "\n",
    "Intended as an idealised model of the Southern Ocean with a ridge to allow topographic form stress and an embayment to allow dense shelf water formation. This model will use a two-component equation of state, CORE normal year forcing (zonal average perhaps), and include a coupled sea ice model."
   ]
  },
  {
   "cell_type": "code",
   "execution_count": 1,
   "id": "7d6604e1",
   "metadata": {},
   "outputs": [
    {
     "name": "stderr",
     "output_type": "stream",
     "text": [
      "/g/data/hh5/public/apps/miniconda3/envs/analysis3-22.04/lib/python3.9/site-packages/dask_jobqueue/core.py:20: FutureWarning: tmpfile is deprecated and will be removed in a future release. Please use dask.utils.tmpfile instead.\n",
      "  from distributed.utils import tmpfile\n"
     ]
    }
   ],
   "source": [
    "import numpy as np\n",
    "import matplotlib.pyplot as plt\n",
    "%matplotlib inline\n",
    "\n",
    "import xarray as xr\n",
    "import numpy as np\n",
    "\n",
    "import cartopy.crs as ccrs\n",
    "import cartopy.feature as cfeature\n",
    "\n",
    "import scipy.stats\n",
    "\n",
    "from dask.distributed import Client,Scheduler\n",
    "from dask_jobqueue import SLURMCluster"
   ]
  },
  {
   "cell_type": "raw",
   "id": "a7c53ec6-cfdd-43d2-bce0-13ab525fd3c8",
   "metadata": {},
   "source": [
    "cluster = SLURMCluster(cores=16,memory=\"47GB\")\n",
    "client = Client(cluster)\n"
   ]
  },
  {
   "cell_type": "raw",
   "id": "b0d27285-51ca-4cd1-9919-666f4f12f5e9",
   "metadata": {},
   "source": [
    "# use to expand cluster as needed\n",
    "cluster.scale(cores=32)"
   ]
  },
  {
   "cell_type": "raw",
   "id": "40327009-5aec-4b34-8951-28911634c910",
   "metadata": {},
   "source": [
    "cluster.scale(cores=0)"
   ]
  },
  {
   "cell_type": "raw",
   "id": "0231b50f-3238-4a54-bf3a-b1575d8d57c2",
   "metadata": {},
   "source": [
    "print(client)\n"
   ]
  },
  {
   "cell_type": "code",
   "execution_count": null,
   "id": "496a4f21-bb85-4834-bcda-ad93de35e969",
   "metadata": {},
   "outputs": [],
   "source": []
  },
  {
   "cell_type": "code",
   "execution_count": null,
   "id": "1f609d64-2ceb-41ab-af5d-c4820c848f5f",
   "metadata": {},
   "outputs": [],
   "source": []
  },
  {
   "cell_type": "raw",
   "id": "030496bd-c2ae-4aba-9bb6-00ccc64cee18",
   "metadata": {},
   "source": [
    "client"
   ]
  },
  {
   "cell_type": "markdown",
   "id": "9af82ee7-7120-4b37-8fb8-4a7d6fca232b",
   "metadata": {},
   "source": [
    "# Simulationn location"
   ]
  },
  {
   "cell_type": "code",
   "execution_count": 2,
   "id": "e81d5cc3-55c9-459a-91ac-2ae5b15757c2",
   "metadata": {},
   "outputs": [],
   "source": [
    "input_dir = '/g/data/jk72/ed7737/SO-channel_embayment/simulations/input/'"
   ]
  },
  {
   "cell_type": "markdown",
   "id": "1fb87beb",
   "metadata": {},
   "source": [
    "## Model domain\n",
    "\n",
    "More or less 75S to 45S\n",
    "Antarctic coast, Antarctic Peninsula, Wedell Seea\n"
   ]
  },
  {
   "cell_type": "code",
   "execution_count": 3,
   "id": "e027f908",
   "metadata": {},
   "outputs": [],
   "source": [
    "# Grid\n",
    "Lx = 2e6\n",
    "Ly = 3e6\n",
    "\n",
    "# horizontal resolution\n",
    "dx = 10e3\n",
    "dy = 10e3\n",
    "\n",
    "nx = int(Lx/dx)\n",
    "ny = int(Ly/dy)\n",
    "\n",
    "dzmin = 5\n",
    "dzmax = 150\n",
    "\n",
    "# Spherical polar grid\n",
    "\n",
    "dxSP = dx/10e4\n",
    "dySP = dy/10e4\n",
    "\n",
    "LxSP = Lx/10e4\n",
    "LySP = Ly/10e4\n",
    "\n",
    "y0SP = -75\n",
    "x0SP = 0\n",
    "\n",
    "\n",
    "# Domain geometry\n",
    "\n",
    "\n",
    "Hshelf = 200\n",
    "Habyss = 4000\n",
    "\n",
    "Yshelf = 900e3\n",
    "Wshelf = 100e3\n",
    "\n",
    "Hridge = 1e3\n",
    "Xridge = 1e6\n",
    "Wridge = 1e5\n",
    "\n",
    "Wc = 500e3\n",
    "Wp = 30e3\n",
    "Hp = 400e3\n",
    "Xp = 300e3\n",
    "# Wem = 200e3\n",
    "# Xem = Xp + Wem\n",
    "\n",
    "\n"
   ]
  },
  {
   "cell_type": "code",
   "execution_count": 4,
   "id": "c648a109-7d09-478b-a7c7-38ddd5e54729",
   "metadata": {},
   "outputs": [
    {
     "name": "stdout",
     "output_type": "stream",
     "text": [
      "200 300\n"
     ]
    }
   ],
   "source": [
    "print(nx, ny)"
   ]
  },
  {
   "cell_type": "markdown",
   "id": "4224c8ff",
   "metadata": {},
   "source": [
    "## Vertical grid\n",
    "Using Setwart et al. (2017)"
   ]
  },
  {
   "cell_type": "code",
   "execution_count": 7,
   "id": "ca11df8a-d612-4992-b1e3-897cf530afb7",
   "metadata": {},
   "outputs": [],
   "source": [
    "import sys  \n",
    "sys.path.insert(0, '/g/data/jk72/ed7737/SO-channel_embayment/setup/SO-channel-ridge-embayment/')"
   ]
  },
  {
   "cell_type": "code",
   "execution_count": 8,
   "id": "15dc0c83",
   "metadata": {},
   "outputs": [],
   "source": [
    "from vertical_grid import build_vertical_grid"
   ]
  },
  {
   "cell_type": "code",
   "execution_count": 9,
   "id": "2b4acc9c",
   "metadata": {},
   "outputs": [],
   "source": [
    "z,dz,mom_thing = build_vertical_grid(Habyss, dzmax, dzmin)"
   ]
  },
  {
   "cell_type": "code",
   "execution_count": 10,
   "id": "a038bfbb-8e5e-42fb-918c-d7f72ae19caf",
   "metadata": {},
   "outputs": [
    {
     "data": {
      "text/plain": [
       "array([   0.        ,    5.48716549,   11.68178647,   18.67469848,\n",
       "         26.56823537,   35.4776126 ,   45.53244527,   56.87839941,\n",
       "         69.67896719,   84.11734482,  100.39837399,  118.75048276,\n",
       "        139.42752639,  162.71038085,  188.90807896,  218.35819942,\n",
       "        251.4261253 ,  288.50268532,  329.99959732,  376.34207595,\n",
       "        427.95799647,  485.26318331,  548.64279178,  618.42940468,\n",
       "        694.87936575,  778.14984142,  868.27987254,  965.17885281,\n",
       "       1068.62517134, 1178.27616351, 1293.68839101, 1414.34532024,\n",
       "       1539.68827991, 1669.14649968, 1802.16291187, 1938.21379292,\n",
       "       2076.82173044, 2217.5624732 , 2360.06683877, 2504.01904789,\n",
       "       2649.15277189, 2795.24594476, 2942.11511683, 3089.60987136,\n",
       "       3237.60761919, 3386.00893435, 3534.73349088, 3683.71659578,\n",
       "       3832.90627632, 3982.26086214])"
      ]
     },
     "execution_count": 10,
     "metadata": {},
     "output_type": "execute_result"
    }
   ],
   "source": [
    "z"
   ]
  },
  {
   "cell_type": "code",
   "execution_count": 11,
   "id": "12c44db1-3943-4f15-909d-d5418ee979ee",
   "metadata": {},
   "outputs": [
    {
     "data": {
      "text/plain": [
       "array([  4.86029965,   5.48716549,   6.19462098,   6.99291201,\n",
       "         7.89353689,   8.90937723,  10.05483267,  11.34595414,\n",
       "        12.80056778,  14.43837763,  16.28102917,  18.35210877,\n",
       "        20.67704362,  23.28285446,  26.1976981 ,  29.45012046,\n",
       "        33.06792588,  37.07656002,  41.496912  ,  46.34247864,\n",
       "        51.61592052,  57.30518684,  63.37960847,  69.78661289,\n",
       "        76.44996107,  83.27047568,  90.13003112,  96.89898027,\n",
       "       103.44631852, 109.65099217, 115.4122275 , 120.65692923,\n",
       "       125.34295968, 129.45821977, 133.01641219, 136.05088105,\n",
       "       138.60793752, 140.74074276, 142.50436556, 143.95220912,\n",
       "       145.133724  , 146.09317287, 146.86917206, 147.49475454,\n",
       "       147.99774783, 148.40131516, 148.72455653, 148.98310489,\n",
       "       149.18968055, 149.35458582])"
      ]
     },
     "execution_count": 11,
     "metadata": {},
     "output_type": "execute_result"
    }
   ],
   "source": [
    "dz"
   ]
  },
  {
   "cell_type": "code",
   "execution_count": 12,
   "id": "feb6af05",
   "metadata": {},
   "outputs": [
    {
     "data": {
      "text/plain": [
       "[<matplotlib.lines.Line2D at 0x7f0344d5bf70>]"
      ]
     },
     "execution_count": 12,
     "metadata": {},
     "output_type": "execute_result"
    },
    {
     "data": {
      "image/png": "[encoded data removed]",
      "text/plain": [
       "<Figure size 432x288 with 1 Axes>"
      ]
     },
     "metadata": {
      "needs_background": "light"
     },
     "output_type": "display_data"
    }
   ],
   "source": [
    "plt.plot(dz, -z, '.')"
   ]
  },
  {
   "cell_type": "code",
   "execution_count": 13,
   "id": "43731166",
   "metadata": {},
   "outputs": [
    {
     "data": {
      "text/plain": [
       "50"
      ]
     },
     "execution_count": 13,
     "metadata": {},
     "output_type": "execute_result"
    }
   ],
   "source": [
    "len(z)"
   ]
  },
  {
   "cell_type": "markdown",
   "id": "adb4ad77",
   "metadata": {},
   "source": [
    "## Horizontal grid"
   ]
  },
  {
   "cell_type": "code",
   "execution_count": 14,
   "id": "053d68d6",
   "metadata": {},
   "outputs": [],
   "source": [
    "x = np.linspace(0, Lx, nx, endpoint=False) + dx/2\n",
    "y = np.linspace(0, Ly, ny, endpoint=False) + dy/2\n",
    "X,Y = np.meshgrid(x, y)\n",
    "\n",
    "xSPC = np.linspace(x0SP, x0SP + LxSP, nx, endpoint=False) + dxSP/2\n",
    "ySPC = np.linspace(y0SP, y0SP + LySP, ny, endpoint=False) + dySP/2\n",
    "XSPC,YSPC = np.meshgrid(xSPC, ySPC)\n",
    "\n",
    "xSPF = np.linspace(x0SP, x0SP + LxSP, nx+1, endpoint=True)\n",
    "ySPF = np.linspace(y0SP, y0SP + LySP, ny+1, endpoint=True)\n",
    "# XSPF,YSPF = np.meshgrid(xSPF, ySPF)\n",
    "\n",
    "\n"
   ]
  },
  {
   "cell_type": "markdown",
   "id": "5bfdcf90",
   "metadata": {},
   "source": [
    "## Define the shelf geometry\n",
    "\n",
    "shelf geometry from Stewart and Thompson (2013) - https://doi.org/10.1175/JPO-D-12-0205.1\n",
    "Plus a 1 km high meridional ridge.\n",
    "\n",
    "Add an Antarctic Peninsula and a Wedell Sea\n"
   ]
  },
  {
   "cell_type": "code",
   "execution_count": 15,
   "id": "c3f0ff4f",
   "metadata": {},
   "outputs": [],
   "source": [
    "# Gaussian ridge\n",
    "ridge = Hridge*np.exp(-((X-Xridge)/Wridge)**2)\n",
    "ridge = Habyss - ridge"
   ]
  },
  {
   "cell_type": "code",
   "execution_count": 16,
   "id": "9aeae022",
   "metadata": {},
   "outputs": [],
   "source": [
    "# define the embayment using an F distribution\n",
    "embayment = scipy.stats.f.pdf(6*(x-Xp)/Lx, 3,100)\n",
    "# normalise the embayment function\n",
    "embayment = embayment/embayment.max()\n",
    "# define peninsula using a \"Witch of Agnesi\" function following Munday & Marshall (2005)\n",
    "peninsula = (Hp*Wp*Wp / (Wp*Wp + (x - Xp)**2))\n",
    "# Combine them all to make the coastline\n",
    "coastline = Wc + peninsula - Wc*embayment\n"
   ]
  },
  {
   "cell_type": "code",
   "execution_count": 17,
   "id": "f43f353b",
   "metadata": {},
   "outputs": [],
   "source": [
    "# plt.plot(x, embayment)\n",
    "# plt.plot(x, coastline)\n"
   ]
  },
  {
   "cell_type": "code",
   "execution_count": 18,
   "id": "76726cab",
   "metadata": {},
   "outputs": [],
   "source": [
    "# create bathymetry with ridge and shelf\n",
    "# shelf is a tanh, and knows about the ridge so the slope changes very slightly near the ridge\n",
    "bathy = Hshelf + 0.5*(ridge - Hshelf)*(1 + np.tanh((Y - Yshelf)/Wshelf) )\n",
    "\n",
    "bathy = xr.DataArray(-bathy, coords={ 'y':y, 'x':x}, dims=['y', 'x'])\n",
    "\n",
    "# set area south of coastline to be land\n",
    "bathy = bathy.where(Y>coastline, 0)\n",
    "\n",
    "bathySP = xr.DataArray(bathy, coords={'ySPC':ySPC, 'xSPC':xSPC}, dims=['ySPC', 'xSPC'])\n"
   ]
  },
  {
   "cell_type": "code",
   "execution_count": 19,
   "id": "0d67dcff-7c8c-4896-ba35-401c4135bf06",
   "metadata": {},
   "outputs": [],
   "source": [
    "bathy.data.astype('>f4').tofile('{0}bathy.bin'.format(input_dir))"
   ]
  },
  {
   "cell_type": "code",
   "execution_count": 20,
   "id": "2e8bff94",
   "metadata": {},
   "outputs": [
    {
     "data": {
      "image/png": "[encoded data removed]",
      "text/plain": [
       "<Figure size 432x288 with 2 Axes>"
      ]
     },
     "metadata": {
      "needs_background": "light"
     },
     "output_type": "display_data"
    }
   ],
   "source": [
    "bathy.plot()\n",
    "ax = plt.gca()\n",
    "ax.set_aspect('equal')"
   ]
  },
  {
   "cell_type": "code",
   "execution_count": 21,
   "id": "1b545dde-5b55-489b-b988-6e361ea47cc8",
   "metadata": {},
   "outputs": [
    {
     "data": {
      "text/plain": [
       "<cartopy.mpl.feature_artist.FeatureArtist at 0x7f033b17d610>"
      ]
     },
     "execution_count": 21,
     "metadata": {},
     "output_type": "execute_result"
    },
    {
     "data": {
      "image/png": "[encoded data removed]",
      "text/plain": [
       "<Figure size 432x288 with 2 Axes>"
      ]
     },
     "metadata": {
      "needs_background": "light"
     },
     "output_type": "display_data"
    }
   ],
   "source": [
    "\n",
    "\n",
    "\n",
    "fig = plt.figure()\n",
    "ax = fig.add_subplot(1, 1, 1, projection=ccrs.PlateCarree())\n",
    "ax.set_extent([-80, 40, -80, -30], crs=ccrs.PlateCarree())\n",
    "\n",
    "bathySP.plot(ax=ax, transform=ccrs.PlateCarree())\n",
    "\n",
    "ax.add_feature(cfeature.LAND)\n",
    "ax.add_feature(cfeature.OCEAN)\n",
    "ax.add_feature(cfeature.COASTLINE)\n",
    "ax.add_feature(cfeature.BORDERS, linestyle=':')\n",
    "ax.add_feature(cfeature.LAKES, alpha=0.5)\n",
    "ax.add_feature(cfeature.RIVERS)\n",
    "\n"
   ]
  },
  {
   "cell_type": "code",
   "execution_count": 22,
   "id": "46bafcc2-c746-4523-a32f-707145e7219e",
   "metadata": {},
   "outputs": [
    {
     "data": {
      "image/png": "[encoded data removed]",
      "text/plain": [
       "<Figure size 432x288 with 2 Axes>"
      ]
     },
     "metadata": {
      "needs_background": "light"
     },
     "output_type": "display_data"
    }
   ],
   "source": [
    "ax = plt.axes(projection=ccrs.Orthographic(central_longitude=10, central_latitude=-50), )\n",
    "\n",
    "# ax.set_global()\n",
    "bathySP.plot.pcolormesh(ax=ax, transform=ccrs.PlateCarree())\n",
    "ax.coastlines()\n",
    "ax.set_extent([-10, 30, -90, -30])\n"
   ]
  },
  {
   "cell_type": "code",
   "execution_count": 23,
   "id": "21598e83",
   "metadata": {},
   "outputs": [
    {
     "data": {
      "text/plain": [
       "[<matplotlib.lines.Line2D at 0x7f033af12640>]"
      ]
     },
     "execution_count": 23,
     "metadata": {},
     "output_type": "execute_result"
    },
    {
     "data": {
      "image/png": "[encoded data removed]",
      "text/plain": [
       "<Figure size 432x288 with 1 Axes>"
      ]
     },
     "metadata": {
      "needs_background": "light"
     },
     "output_type": "display_data"
    }
   ],
   "source": [
    "# Is is periodic? Plot the profiles at the two ends to check\n",
    "bathy.isel(x=1).plot()\n",
    "bathy.isel(x=-1).plot()\n",
    "\n"
   ]
  },
  {
   "cell_type": "code",
   "execution_count": 24,
   "id": "b3e13e09",
   "metadata": {},
   "outputs": [
    {
     "data": {
      "text/plain": [
       "[<matplotlib.lines.Line2D at 0x7f033a961610>]"
      ]
     },
     "execution_count": 24,
     "metadata": {},
     "output_type": "execute_result"
    },
    {
     "data": {
      "image/png": "[encoded data removed]",
      "text/plain": [
       "<Figure size 432x288 with 1 Axes>"
      ]
     },
     "metadata": {
      "needs_background": "light"
     },
     "output_type": "display_data"
    }
   ],
   "source": [
    "# How different is the slope near the ridge?\n",
    "# Not too different, but, it definitely deviates\n",
    "bathy.sel(x=1e6, method='nearest').plot()\n",
    "bathy.sel(x=1.5e6, method='nearest').plot()\n",
    "bathy.sel(x=0.5e6, method='nearest').plot()"
   ]
  },
  {
   "cell_type": "markdown",
   "id": "666a6be4",
   "metadata": {},
   "source": [
    "# Surface forcings\n",
    "\n",
    "Use JRA-55 do neutral year, 1 May 1990 to 30 April 1991, as recommended by Stewart et al. (2020) - https://www.sciencedirect.com/science/article/abs/pii/S1463500319302768\n",
    "\n",
    "Zonal mean, monthly mean. Removes synoptic variability, but is probably simpler given the channel geometry, and cartesian grid. Otherwise, I'd need to use a spherical grid (not impossible) or scale the atmospheric forcing (very weird). Zonal mean allows me to choose between spherical and Cartesian without any issues."
   ]
  },
  {
   "cell_type": "code",
   "execution_count": 25,
   "id": "8c8ba1d7",
   "metadata": {},
   "outputs": [],
   "source": [
    "atemp = xr.open_mfdataset('/g/data/qv56/replicas/input4MIPs/CMIP6/OMIP/MRI/MRI-JRA55-do-1-5-0/atmos/3hrPt/tas/gr/v20200916/*')\n",
    "atemp = atemp.sel(time=slice('1990-05-01', '1991-4-30')).sel(lat=slice(-80,-35))\n",
    "atemp_forcing = atemp.groupby('time.month').mean(dim='time').mean(dim='lon')\n",
    "\n",
    "atemp_JRA55do_EXF = atemp_forcing.interp(lat=ySPC)\n",
    "atemp_JRA55do_EXF = atemp_JRA55do_EXF*xr.DataArray(np.ones([nx]), coords={'xSPC':xSPC}, dims=['xSPC'])\n",
    "atemp_JRA55do_EXF['tas'].load().data.astype('>f4').tofile('{0}atemp_JRA55do_EXF.bin'.format(input_dir))\n",
    "\n"
   ]
  },
  {
   "cell_type": "raw",
   "id": "a3bd4ed0-e28d-465b-bfb0-7d31d5a158fa",
   "metadata": {},
   "source": [
    "(atemp_JRA55do_EXF['tas'].sel(xSP=-50, method='nearest')-273.15).plot()"
   ]
  },
  {
   "cell_type": "code",
   "execution_count": null,
   "id": "d9a0370b-3964-4417-98e0-79450b8eabc4",
   "metadata": {},
   "outputs": [],
   "source": []
  },
  {
   "cell_type": "raw",
   "id": "68df4643-7571-4206-b028-9ae10ec3296f",
   "metadata": {},
   "source": [
    "uwind_forcing"
   ]
  },
  {
   "cell_type": "code",
   "execution_count": 26,
   "id": "7a391eeb-b3f0-446d-a18a-5f6b27f8ac50",
   "metadata": {},
   "outputs": [],
   "source": [
    "uwind = xr.open_mfdataset('/g/data/qv56/replicas/input4MIPs/CMIP6/OMIP/MRI/MRI-JRA55-do-1-5-0/atmos/3hrPt/uas/gr/v20200916/*')\n",
    "uwind = uwind.sel(time=slice('1990-05-01', '1991-4-30')).sel(lat=slice(-80,-35))\n",
    "uwind_forcing = uwind.groupby('time.month').mean(dim='time').mean(dim='lon')\n",
    "\n",
    "uwind_JRA55do_EXF = uwind_forcing.interp(lat=ySPC)\n",
    "uwind_JRA55do_EXF = uwind_JRA55do_EXF*xr.DataArray(np.ones([nx]), coords={'xSPF':xSPF[:-1]}, dims=['xSPF'])\n",
    "uwind_JRA55do_EXF['uas'].load().data.astype('>f4').tofile('{0}uwind_JRA55do_EXF.bin'.format(input_dir))\n",
    "\n",
    "\n"
   ]
  },
  {
   "cell_type": "code",
   "execution_count": 28,
   "id": "4a2854ba-0f7d-40e8-8368-9b692db7dacf",
   "metadata": {},
   "outputs": [
    {
     "data": {
      "text/plain": [
       "<matplotlib.contour.QuadContourSet at 0x7f033af48520>"
      ]
     },
     "execution_count": 28,
     "metadata": {},
     "output_type": "execute_result"
    },
    {
     "data": {
      "image/png": "[encoded data removed]",
      "text/plain": [
       "<Figure size 432x288 with 2 Axes>"
      ]
     },
     "metadata": {
      "needs_background": "light"
     },
     "output_type": "display_data"
    }
   ],
   "source": [
    "uwind_JRA55do_EXF['uas'].sel(month=11).plot()\n",
    "plt.contour(xSPC, ySPC, bathySP, levels=[-3900, -3000, -2000, -1000, -500, -100, 0])"
   ]
  },
  {
   "cell_type": "code",
   "execution_count": 66,
   "id": "ccf2563d-858b-4011-ae4f-96179bcbc47b",
   "metadata": {},
   "outputs": [
    {
     "data": {
      "text/plain": [
       "<matplotlib.legend.Legend at 0x7f0330dbbfd0>"
      ]
     },
     "execution_count": 66,
     "metadata": {},
     "output_type": "execute_result"
    },
    {
     "data": {
      "image/png": "[encoded data removed]",
      "text/plain": [
       "<Figure size 432x288 with 1 Axes>"
      ]
     },
     "metadata": {
      "needs_background": "light"
     },
     "output_type": "display_data"
    }
   ],
   "source": [
    "for month in range(1,13):\n",
    "    uwind_JRA55do_EXF['uas'].sel(month=month).sel(xSPF=10.).plot(label=month)\n",
    "plt.plot(ySPC, bathySP.sel(xSPC=1, method='nearest')/1000)\n",
    "plt.legend()"
   ]
  },
  {
   "cell_type": "code",
   "execution_count": 29,
   "id": "2f748af4-3a32-411b-82dd-e4034022d7e7",
   "metadata": {},
   "outputs": [],
   "source": [
    "vwind = xr.open_mfdataset('/g/data/qv56/replicas/input4MIPs/CMIP6/OMIP/MRI/MRI-JRA55-do-1-5-0/atmos/3hrPt/vas/gr/v20200916/*')\n",
    "vwind = vwind.sel(time=slice('1990-05-01', '1991-4-30')).sel(lat=slice(-80,-35))\n",
    "vwind_forcing = vwind.groupby('time.month').mean(dim='time').mean(dim='lon')\n",
    "\n",
    "\n",
    "vwind_JRA55do_EXF = vwind_forcing.interp(lat=ySPF[:-1])\n",
    "vwind_JRA55do_EXF = vwind_JRA55do_EXF*xr.DataArray(np.ones([nx]), coords={'xSPC':xSPC}, dims=['xSPC'])\n",
    "vwind_JRA55do_EXF['vas'].load().data.astype('>f4').tofile('{0}vwind_JRA55do_EXF.bin'.format(input_dir))\n",
    "\n",
    "\n"
   ]
  },
  {
   "cell_type": "raw",
   "id": "706133b2-68da-4d0d-96d6-0487eb987e87",
   "metadata": {},
   "source": [
    "vwind_JRA55do_EXF['vas']"
   ]
  },
  {
   "cell_type": "code",
   "execution_count": null,
   "id": "61a7f276-73fa-4f4c-84fd-7cf6d4ca35cd",
   "metadata": {},
   "outputs": [],
   "source": []
  },
  {
   "cell_type": "code",
   "execution_count": 30,
   "id": "20defe13-8402-46f9-8a74-c677990abcc4",
   "metadata": {},
   "outputs": [],
   "source": [
    "# Let's not use runoff in the control simulation. The geomtery is too idealised for this to make sense anyway.\n",
    "# Better to use it as a potential perturbation later on.\n",
    "\n",
    "# runoff = xr.open_mfdataset('/g/data/qv56/replicas/input4MIPs/CMIP6/OMIP/MRI/MRI-JRA55-do-1-5-0/land/day/friver/gr/v20200916/*')\n",
    "# runoff = runoff.sel(time=slice('1990-05-01', '1991-4-30')).sel(lat=slice(-70,-40))\n",
    "# need to adjust units from kg/m**2/s to m/s by dividing by 1e3\n",
    "# runoff_forcing = runoff.groupby('time.month').mean(dim='time').mean(dim='lon')\n",
    "\n"
   ]
  },
  {
   "cell_type": "code",
   "execution_count": null,
   "id": "b35ae602-3065-4cec-8737-3c061c5808cb",
   "metadata": {},
   "outputs": [],
   "source": [
    "aqh = xr.open_mfdataset('/g/data/qv56/replicas/input4MIPs/CMIP6/OMIP/MRI/MRI-JRA55-do-1-5-0/atmos/3hrPt/huss/gr/v20200916/*')\n",
    "aqh = aqh.sel(time=slice('1990-05-01', '1991-4-30')).sel(lat=slice(-80,-35))\n",
    "aqh_forcing = aqh.groupby('time.month').mean(dim='time').mean(dim='lon')\n",
    "\n",
    "aqh_JRA55do_EXF = aqh_forcing.interp(lat=ySPC)\n",
    "aqh_JRA55do_EXF = aqh_JRA55do_EXF*xr.DataArray(np.ones([nx]), coords={'xSPC':xSPC}, dims=['xSPC'])\n",
    "aqh_JRA55do_EXF['huss'].load().data.astype('>f4').tofile('{0}aqh_JRA55do_EXF.bin'.format(input_dir))\n",
    "\n",
    "\n"
   ]
  },
  {
   "cell_type": "code",
   "execution_count": 32,
   "id": "93245d24-6ddf-4401-ba1f-cb15709329cf",
   "metadata": {},
   "outputs": [],
   "source": [
    "precip_rain = xr.open_mfdataset('/g/data/qv56/replicas/input4MIPs/CMIP6/OMIP/MRI/MRI-JRA55-do-1-5-0/atmos/3hr/prra/gr/v20200916/*')\n",
    "precip_rain = precip_rain.sel(time=slice('1990-05-01', '1991-4-30')).sel(lat=slice(-80,-35))\n",
    "precip_rain_forcing = precip_rain.groupby('time.month').mean(dim='time').mean(dim='lon')\n",
    "#convert from kg/m**2/s to m/s by dividing by 1e3\n",
    "precip_rain_forcing = precip_rain_forcing/1e3\n",
    "\n",
    "precip_rain_JRA55do_EXF = precip_rain_forcing.interp(lat=ySPC)\n",
    "precip_rain_JRA55do_EXF = precip_rain_JRA55do_EXF*xr.DataArray(np.ones([nx]), coords={'xSPC':xSPC}, dims=['xSPC'])\n",
    "precip_rain_JRA55do_EXF['prra'].load().data.astype('>f4').tofile('{0}precip_rain_JRA55do_EXF.bin'.format(input_dir))\n"
   ]
  },
  {
   "cell_type": "code",
   "execution_count": 33,
   "id": "2a24df5d-f9f5-48c3-af2f-07f1099c4610",
   "metadata": {},
   "outputs": [],
   "source": [
    "precip_snow = xr.open_mfdataset('/g/data/qv56/replicas/input4MIPs/CMIP6/OMIP/MRI/MRI-JRA55-do-1-5-0/atmos/3hr/prsn/gr/v20200916/*')\n",
    "precip_snow = precip_snow.sel(time=slice('1990-05-01', '1991-4-30')).sel(lat=slice(-80,-35))\n",
    "#convert from kg/m**2/s to m/s by dividing by 1e3\n",
    "precip_snow_forcing = precip_snow.groupby('time.month').mean(dim='time').mean(dim='lon')/1e3\n",
    "\n",
    "precip_snow_JRA55do_EXF = precip_snow_forcing.interp(lat=ySPC)\n",
    "precip_snow_JRA55do_EXF = precip_snow_JRA55do_EXF*xr.DataArray(np.ones([nx]), coords={'xSPC':xSPC}, dims=['xSPC'])\n",
    "precip_snow_JRA55do_EXF['prsn'].load().data.astype('>f4').tofile('{0}precip_snow_JRA55do_EXF.bin'.format(input_dir))\n",
    "\n",
    "\n"
   ]
  },
  {
   "cell_type": "code",
   "execution_count": 34,
   "id": "9245446f-2a8b-4185-93bc-bd508f373e9c",
   "metadata": {},
   "outputs": [],
   "source": [
    "swdown = xr.open_mfdataset('/g/data/qv56/replicas/input4MIPs/CMIP6/OMIP/MRI/MRI-JRA55-do-1-5-0/atmos/3hr/rsds/gr/v20200916/*')\n",
    "swdown = swdown.sel(time=slice('1990-05-01', '1991-4-30')).sel(lat=slice(-80,-35))\n",
    "swdown_forcing = swdown.groupby('time.month').mean(dim='time').mean(dim='lon')\n",
    "\n",
    "swdown_JRA55do_EXF = swdown_forcing.interp(lat=ySPC)\n",
    "swdown_JRA55do_EXF = swdown_JRA55do_EXF*xr.DataArray(np.ones([nx]), coords={'xSPC':xSPC}, dims=['xSPC'])\n",
    "swdown_JRA55do_EXF['rsds'].load().data.astype('>f4').tofile('{0}swdown_JRA55do_EXF.bin'.format(input_dir))\n",
    "\n",
    "\n"
   ]
  },
  {
   "cell_type": "code",
   "execution_count": 36,
   "id": "5f65b846-2631-4486-8628-4db147ee1ea5",
   "metadata": {},
   "outputs": [],
   "source": [
    "lwdown = xr.open_mfdataset('/g/data/qv56/replicas/input4MIPs/CMIP6/OMIP/MRI/MRI-JRA55-do-1-5-0/atmos/3hr/rlds/gr/v20200916/*')\n",
    "lwdown = lwdown.sel(time=slice('1990-05-01', '1991-4-30')).sel(lat=slice(-80,-35))\n",
    "lwdown_forcing = lwdown.groupby('time.month').mean(dim='time').mean(dim='lon')\n",
    "\n",
    "lwdown_JRA55do_EXF = lwdown_forcing.interp(lat=ySPC)\n",
    "lwdown_JRA55do_EXF = lwdown_JRA55do_EXF*xr.DataArray(np.ones([nx]), coords={'xSPC':xSPC}, dims=['xSPC'])\n",
    "lwdown_JRA55do_EXF['rlds'].load().data.astype('>f4').tofile('{0}lwdown_JRA55do_EXF.bin'.format(input_dir))\n",
    "\n"
   ]
  },
  {
   "cell_type": "code",
   "execution_count": 37,
   "id": "417db7ff-0ddc-4593-8e80-32748a496a61",
   "metadata": {},
   "outputs": [],
   "source": [
    "apressure = xr.open_mfdataset('/g/data/qv56/replicas/input4MIPs/CMIP6/OMIP/MRI/MRI-JRA55-do-1-5-0/atmos/3hrPt/psl/gr/v20200916/*')\n",
    "apressure = apressure.sel(time=slice('1990-05-01', '1991-4-30')).sel(lat=slice(-80,-35))\n",
    "apressure_forcing = apressure.groupby('time.month').mean(dim='time').mean(dim='lon')\n",
    "\n",
    "apressure_JRA55do_EXF = apressure_forcing.interp(lat=ySPC)\n",
    "apressure_JRA55do_EXF = apressure_JRA55do_EXF*xr.DataArray(np.ones([nx]), coords={'xSPC':xSPC}, dims=['xSPC'])\n",
    "apressure_JRA55do_EXF['psl'].load().data.astype('>f4').tofile('{0}apressure_JRA55do_EXF.bin'.format(input_dir))\n",
    "\n"
   ]
  },
  {
   "cell_type": "markdown",
   "id": "a76c9846",
   "metadata": {},
   "source": [
    "# Initial hydrography and sponge\n",
    "Take a zonal mean of World Ocean Atlas 2018 for initial conditions and use northern most 100 km of it for the sponge."
   ]
  },
  {
   "cell_type": "code",
   "execution_count": 38,
   "id": "8f953f43-6347-4162-b194-903d8286fbd9",
   "metadata": {},
   "outputs": [],
   "source": [
    "ds_temperature = xr.open_dataset('/g/data/jk72/ed7737/world-ocean-atlas/woa18_decav_t00_04.nc', decode_times=False)\n",
    "ds_salt = xr.open_dataset('/g/data/jk72/ed7737/world-ocean-atlas/woa18_decav_s00_04.nc', decode_times=False)"
   ]
  },
  {
   "cell_type": "code",
   "execution_count": 39,
   "id": "804ee064-f859-4474-a00b-292cca684efc",
   "metadata": {},
   "outputs": [],
   "source": [
    "temperature_profile = ds_temperature['t_an'].sel(lat=-45, method='nearest').mean(dim='lon').squeeze()\n",
    "temperature_profile = temperature_profile.interp(depth = z)\n",
    "\n",
    "salt_profile = ds_salt['s_an'].sel(lat=-45, method='nearest').mean(dim='lon').squeeze()\n",
    "salt_profile = salt_profile.interp(depth = z)\n"
   ]
  },
  {
   "cell_type": "code",
   "execution_count": 40,
   "id": "4314a876-1a23-482a-b2a9-171cb000cac4",
   "metadata": {},
   "outputs": [
    {
     "data": {
      "text/plain": [
       "<matplotlib.legend.Legend at 0x7f0332dab6d0>"
      ]
     },
     "execution_count": 40,
     "metadata": {},
     "output_type": "execute_result"
    },
    {
     "data": {
      "image/png": "[encoded data removed]",
      "text/plain": [
       "<Figure size 432x288 with 1 Axes>"
      ]
     },
     "metadata": {
      "needs_background": "light"
     },
     "output_type": "display_data"
    }
   ],
   "source": [
    "plt.plot(ds_temperature['t_an'].sel(lat=-45, method='nearest').mean(dim='lon').squeeze(), -ds_temperature['depth'], label='original data')\n",
    "plt.plot(temperature_profile, -z, label='interpolated to model grid')\n",
    "plt.legend()"
   ]
  },
  {
   "cell_type": "code",
   "execution_count": 41,
   "id": "2a11a8bc-4d16-440b-805d-1841c8ab1fc6",
   "metadata": {},
   "outputs": [
    {
     "data": {
      "text/plain": [
       "<matplotlib.legend.Legend at 0x7f033825e5b0>"
      ]
     },
     "execution_count": 41,
     "metadata": {},
     "output_type": "execute_result"
    },
    {
     "data": {
      "image/png": "[encoded data removed]",
      "text/plain": [
       "<Figure size 432x288 with 1 Axes>"
      ]
     },
     "metadata": {
      "needs_background": "light"
     },
     "output_type": "display_data"
    }
   ],
   "source": [
    "plt.plot(ds_salt['s_an'].sel(lat=-45, method='nearest').mean(dim='lon').squeeze(), -ds_salt['depth'], label='original data')\n",
    "plt.plot(salt_profile, -z, label = 'interpolated to model grid')\n",
    "plt.legend()"
   ]
  },
  {
   "cell_type": "code",
   "execution_count": 42,
   "id": "6db2a936-0e76-40d3-b47d-107830ff9c06",
   "metadata": {},
   "outputs": [],
   "source": [
    "WOA_salt, foo = xr.broadcast(salt_profile, bathy)\n",
    "WOA_temperature, foo = xr.broadcast(temperature_profile, bathy)\n",
    "del foo"
   ]
  },
  {
   "cell_type": "code",
   "execution_count": 43,
   "id": "f7fef8d5-8783-4846-b660-36605ed2a737",
   "metadata": {},
   "outputs": [
    {
     "data": {
      "text/html": [
       "<div><svg style=\"position: absolute; width: 0; height: 0; overflow: hidden\">\n",
       "<defs>\n",
       "<symbol id=\"icon-database\" viewBox=\"0 0 32 32\">\n",
       "<path d=\"M16 0c-8.837 0-16 2.239-16 5v4c0 2.761 7.163 5 16 5s16-2.239 16-5v-4c0-2.761-7.163-5-16-5z\"></path>\n",
       "<path d=\"M16 17c-8.837 0-16-2.239-16-5v6c0 2.761 7.163 5 16 5s16-2.239 16-5v-6c0 2.761-7.163 5-16 5z\"></path>\n",
       "<path d=\"M16 26c-8.837 0-16-2.239-16-5v6c0 2.761 7.163 5 16 5s16-2.239 16-5v-6c0 2.761-7.163 5-16 5z\"></path>\n",
       "</symbol>\n",
       "<symbol id=\"icon-file-text2\" viewBox=\"0 0 32 32\">\n",
       "<path d=\"M28.681 7.159c-0.694-0.947-1.662-2.053-2.724-3.116s-2.169-2.030-3.116-2.724c-1.612-1.182-2.393-1.319-2.841-1.319h-15.5c-1.378 0-2.5 1.121-2.5 2.5v27c0 1.378 1.122 2.5 2.5 2.5h23c1.378 0 2.5-1.122 2.5-2.5v-19.5c0-0.448-0.137-1.23-1.319-2.841zM24.543 5.457c0.959 0.959 1.712 1.825 2.268 2.543h-4.811v-4.811c0.718 0.556 1.584 1.309 2.543 2.268zM28 29.5c0 0.271-0.229 0.5-0.5 0.5h-23c-0.271 0-0.5-0.229-0.5-0.5v-27c0-0.271 0.229-0.5 0.5-0.5 0 0 15.499-0 15.5 0v7c0 0.552 0.448 1 1 1h7v19.5z\"></path>\n",
       "<path d=\"M23 26h-14c-0.552 0-1-0.448-1-1s0.448-1 1-1h14c0.552 0 1 0.448 1 1s-0.448 1-1 1z\"></path>\n",
       "<path d=\"M23 22h-14c-0.552 0-1-0.448-1-1s0.448-1 1-1h14c0.552 0 1 0.448 1 1s-0.448 1-1 1z\"></path>\n",
       "<path d=\"M23 18h-14c-0.552 0-1-0.448-1-1s0.448-1 1-1h14c0.552 0 1 0.448 1 1s-0.448 1-1 1z\"></path>\n",
       "</symbol>\n",
       "</defs>\n",
       "</svg>\n",
       "<style>/* CSS stylesheet for displaying xarray objects in jupyterlab.\n",
       " *\n",
       " */\n",
       "\n",
       ":root {\n",
       "  --xr-font-color0: var(--jp-content-font-color0, rgba(0, 0, 0, 1));\n",
       "  --xr-font-color2: var(--jp-content-font-color2, rgba(0, 0, 0, 0.54));\n",
       "  --xr-font-color3: var(--jp-content-font-color3, rgba(0, 0, 0, 0.38));\n",
       "  --xr-border-color: var(--jp-border-color2, #e0e0e0);\n",
       "  --xr-disabled-color: var(--jp-layout-color3, #bdbdbd);\n",
       "  --xr-background-color: var(--jp-layout-color0, white);\n",
       "  --xr-background-color-row-even: var(--jp-layout-color1, white);\n",
       "  --xr-background-color-row-odd: var(--jp-layout-color2, #eeeeee);\n",
       "}\n",
       "\n",
       "html[theme=dark],\n",
       "body.vscode-dark {\n",
       "  --xr-font-color0: rgba(255, 255, 255, 1);\n",
       "  --xr-font-color2: rgba(255, 255, 255, 0.54);\n",
       "  --xr-font-color3: rgba(255, 255, 255, 0.38);\n",
       "  --xr-border-color: #1F1F1F;\n",
       "  --xr-disabled-color: #515151;\n",
       "  --xr-background-color: #111111;\n",
       "  --xr-background-color-row-even: #111111;\n",
       "  --xr-background-color-row-odd: #313131;\n",
       "}\n",
       "\n",
       ".xr-wrap {\n",
       "  display: block !important;\n",
       "  min-width: 300px;\n",
       "  max-width: 700px;\n",
       "}\n",
       "\n",
       ".xr-text-repr-fallback {\n",
       "  /* fallback to plain text repr when CSS is not injected (untrusted notebook) */\n",
       "  display: none;\n",
       "}\n",
       "\n",
       ".xr-header {\n",
       "  padding-top: 6px;\n",
       "  padding-bottom: 6px;\n",
       "  margin-bottom: 4px;\n",
       "  border-bottom: solid 1px var(--xr-border-color);\n",
       "}\n",
       "\n",
       ".xr-header > div,\n",
       ".xr-header > ul {\n",
       "  display: inline;\n",
       "  margin-top: 0;\n",
       "  margin-bottom: 0;\n",
       "}\n",
       "\n",
       ".xr-obj-type,\n",
       ".xr-array-name {\n",
       "  margin-left: 2px;\n",
       "  margin-right: 10px;\n",
       "}\n",
       "\n",
       ".xr-obj-type {\n",
       "  color: var(--xr-font-color2);\n",
       "}\n",
       "\n",
       ".xr-sections {\n",
       "  padding-left: 0 !important;\n",
       "  display: grid;\n",
       "  grid-template-columns: 150px auto auto 1fr 20px 20px;\n",
       "}\n",
       "\n",
       ".xr-section-item {\n",
       "  display: contents;\n",
       "}\n",
       "\n",
       ".xr-section-item input {\n",
       "  display: none;\n",
       "}\n",
       "\n",
       ".xr-section-item input + label {\n",
       "  color: var(--xr-disabled-color);\n",
       "}\n",
       "\n",
       ".xr-section-item input:enabled + label {\n",
       "  cursor: pointer;\n",
       "  color: var(--xr-font-color2);\n",
       "}\n",
       "\n",
       ".xr-section-item input:enabled + label:hover {\n",
       "  color: var(--xr-font-color0);\n",
       "}\n",
       "\n",
       ".xr-section-summary {\n",
       "  grid-column: 1;\n",
       "  color: var(--xr-font-color2);\n",
       "  font-weight: 500;\n",
       "}\n",
       "\n",
       ".xr-section-summary > span {\n",
       "  display: inline-block;\n",
       "  padding-left: 0.5em;\n",
       "}\n",
       "\n",
       ".xr-section-summary-in:disabled + label {\n",
       "  color: var(--xr-font-color2);\n",
       "}\n",
       "\n",
       ".xr-section-summary-in + label:before {\n",
       "  display: inline-block;\n",
       "  content: '►';\n",
       "  font-size: 11px;\n",
       "  width: 15px;\n",
       "  text-align: center;\n",
       "}\n",
       "\n",
       ".xr-section-summary-in:disabled + label:before {\n",
       "  color: var(--xr-disabled-color);\n",
       "}\n",
       "\n",
       ".xr-section-summary-in:checked + label:before {\n",
       "  content: '▼';\n",
       "}\n",
       "\n",
       ".xr-section-summary-in:checked + label > span {\n",
       "  display: none;\n",
       "}\n",
       "\n",
       ".xr-section-summary,\n",
       ".xr-section-inline-details {\n",
       "  padding-top: 4px;\n",
       "  padding-bottom: 4px;\n",
       "}\n",
       "\n",
       ".xr-section-inline-details {\n",
       "  grid-column: 2 / -1;\n",
       "}\n",
       "\n",
       ".xr-section-details {\n",
       "  display: none;\n",
       "  grid-column: 1 / -1;\n",
       "  margin-bottom: 5px;\n",
       "}\n",
       "\n",
       ".xr-section-summary-in:checked ~ .xr-section-details {\n",
       "  display: contents;\n",
       "}\n",
       "\n",
       ".xr-array-wrap {\n",
       "  grid-column: 1 / -1;\n",
       "  display: grid;\n",
       "  grid-template-columns: 20px auto;\n",
       "}\n",
       "\n",
       ".xr-array-wrap > label {\n",
       "  grid-column: 1;\n",
       "  vertical-align: top;\n",
       "}\n",
       "\n",
       ".xr-preview {\n",
       "  color: var(--xr-font-color3);\n",
       "}\n",
       "\n",
       ".xr-array-preview,\n",
       ".xr-array-data {\n",
       "  padding: 0 5px !important;\n",
       "  grid-column: 2;\n",
       "}\n",
       "\n",
       ".xr-array-data,\n",
       ".xr-array-in:checked ~ .xr-array-preview {\n",
       "  display: none;\n",
       "}\n",
       "\n",
       ".xr-array-in:checked ~ .xr-array-data,\n",
       ".xr-array-preview {\n",
       "  display: inline-block;\n",
       "}\n",
       "\n",
       ".xr-dim-list {\n",
       "  display: inline-block !important;\n",
       "  list-style: none;\n",
       "  padding: 0 !important;\n",
       "  margin: 0;\n",
       "}\n",
       "\n",
       ".xr-dim-list li {\n",
       "  display: inline-block;\n",
       "  padding: 0;\n",
       "  margin: 0;\n",
       "}\n",
       "\n",
       ".xr-dim-list:before {\n",
       "  content: '(';\n",
       "}\n",
       "\n",
       ".xr-dim-list:after {\n",
       "  content: ')';\n",
       "}\n",
       "\n",
       ".xr-dim-list li:not(:last-child):after {\n",
       "  content: ',';\n",
       "  padding-right: 5px;\n",
       "}\n",
       "\n",
       ".xr-has-index {\n",
       "  font-weight: bold;\n",
       "}\n",
       "\n",
       ".xr-var-list,\n",
       ".xr-var-item {\n",
       "  display: contents;\n",
       "}\n",
       "\n",
       ".xr-var-item > div,\n",
       ".xr-var-item label,\n",
       ".xr-var-item > .xr-var-name span {\n",
       "  background-color: var(--xr-background-color-row-even);\n",
       "  margin-bottom: 0;\n",
       "}\n",
       "\n",
       ".xr-var-item > .xr-var-name:hover span {\n",
       "  padding-right: 5px;\n",
       "}\n",
       "\n",
       ".xr-var-list > li:nth-child(odd) > div,\n",
       ".xr-var-list > li:nth-child(odd) > label,\n",
       ".xr-var-list > li:nth-child(odd) > .xr-var-name span {\n",
       "  background-color: var(--xr-background-color-row-odd);\n",
       "}\n",
       "\n",
       ".xr-var-name {\n",
       "  grid-column: 1;\n",
       "}\n",
       "\n",
       ".xr-var-dims {\n",
       "  grid-column: 2;\n",
       "}\n",
       "\n",
       ".xr-var-dtype {\n",
       "  grid-column: 3;\n",
       "  text-align: right;\n",
       "  color: var(--xr-font-color2);\n",
       "}\n",
       "\n",
       ".xr-var-preview {\n",
       "  grid-column: 4;\n",
       "}\n",
       "\n",
       ".xr-var-name,\n",
       ".xr-var-dims,\n",
       ".xr-var-dtype,\n",
       ".xr-preview,\n",
       ".xr-attrs dt {\n",
       "  white-space: nowrap;\n",
       "  overflow: hidden;\n",
       "  text-overflow: ellipsis;\n",
       "  padding-right: 10px;\n",
       "}\n",
       "\n",
       ".xr-var-name:hover,\n",
       ".xr-var-dims:hover,\n",
       ".xr-var-dtype:hover,\n",
       ".xr-attrs dt:hover {\n",
       "  overflow: visible;\n",
       "  width: auto;\n",
       "  z-index: 1;\n",
       "}\n",
       "\n",
       ".xr-var-attrs,\n",
       ".xr-var-data {\n",
       "  display: none;\n",
       "  background-color: var(--xr-background-color) !important;\n",
       "  padding-bottom: 5px !important;\n",
       "}\n",
       "\n",
       ".xr-var-attrs-in:checked ~ .xr-var-attrs,\n",
       ".xr-var-data-in:checked ~ .xr-var-data {\n",
       "  display: block;\n",
       "}\n",
       "\n",
       ".xr-var-data > table {\n",
       "  float: right;\n",
       "}\n",
       "\n",
       ".xr-var-name span,\n",
       ".xr-var-data,\n",
       ".xr-attrs {\n",
       "  padding-left: 25px !important;\n",
       "}\n",
       "\n",
       ".xr-attrs,\n",
       ".xr-var-attrs,\n",
       ".xr-var-data {\n",
       "  grid-column: 1 / -1;\n",
       "}\n",
       "\n",
       "dl.xr-attrs {\n",
       "  padding: 0;\n",
       "  margin: 0;\n",
       "  display: grid;\n",
       "  grid-template-columns: 125px auto;\n",
       "}\n",
       "\n",
       ".xr-attrs dt,\n",
       ".xr-attrs dd {\n",
       "  padding: 0;\n",
       "  margin: 0;\n",
       "  float: left;\n",
       "  padding-right: 10px;\n",
       "  width: auto;\n",
       "}\n",
       "\n",
       ".xr-attrs dt {\n",
       "  font-weight: normal;\n",
       "  grid-column: 1;\n",
       "}\n",
       "\n",
       ".xr-attrs dt:hover span {\n",
       "  display: inline-block;\n",
       "  background: var(--xr-background-color);\n",
       "  padding-right: 10px;\n",
       "}\n",
       "\n",
       ".xr-attrs dd {\n",
       "  grid-column: 2;\n",
       "  white-space: pre-wrap;\n",
       "  word-break: break-all;\n",
       "}\n",
       "\n",
       ".xr-icon-database,\n",
       ".xr-icon-file-text2 {\n",
       "  display: inline-block;\n",
       "  vertical-align: middle;\n",
       "  width: 1em;\n",
       "  height: 1.5em !important;\n",
       "  stroke-width: 0;\n",
       "  stroke: currentColor;\n",
       "  fill: currentColor;\n",
       "}\n",
       "</style><pre class='xr-text-repr-fallback'>&lt;xarray.DataArray &#x27;t_an&#x27; (depth: 50, y: 300, x: 200)&gt;\n",
       "array([[[10.28932285, 10.28932285, 10.28932285, ..., 10.28932285,\n",
       "         10.28932285, 10.28932285],\n",
       "        [10.28932285, 10.28932285, 10.28932285, ..., 10.28932285,\n",
       "         10.28932285, 10.28932285],\n",
       "        [10.28932285, 10.28932285, 10.28932285, ..., 10.28932285,\n",
       "         10.28932285, 10.28932285],\n",
       "        ...,\n",
       "        [10.28932285, 10.28932285, 10.28932285, ..., 10.28932285,\n",
       "         10.28932285, 10.28932285],\n",
       "        [10.28932285, 10.28932285, 10.28932285, ..., 10.28932285,\n",
       "         10.28932285, 10.28932285],\n",
       "        [10.28932285, 10.28932285, 10.28932285, ..., 10.28932285,\n",
       "         10.28932285, 10.28932285]],\n",
       "\n",
       "       [[10.25963377, 10.25963377, 10.25963377, ..., 10.25963377,\n",
       "         10.25963377, 10.25963377],\n",
       "        [10.25963377, 10.25963377, 10.25963377, ..., 10.25963377,\n",
       "         10.25963377, 10.25963377],\n",
       "        [10.25963377, 10.25963377, 10.25963377, ..., 10.25963377,\n",
       "         10.25963377, 10.25963377],\n",
       "...\n",
       "        [ 1.03906097,  1.03906097,  1.03906097, ...,  1.03906097,\n",
       "          1.03906097,  1.03906097],\n",
       "        [ 1.03906097,  1.03906097,  1.03906097, ...,  1.03906097,\n",
       "          1.03906097,  1.03906097],\n",
       "        [ 1.03906097,  1.03906097,  1.03906097, ...,  1.03906097,\n",
       "          1.03906097,  1.03906097]],\n",
       "\n",
       "       [[ 0.95200889,  0.95200889,  0.95200889, ...,  0.95200889,\n",
       "          0.95200889,  0.95200889],\n",
       "        [ 0.95200889,  0.95200889,  0.95200889, ...,  0.95200889,\n",
       "          0.95200889,  0.95200889],\n",
       "        [ 0.95200889,  0.95200889,  0.95200889, ...,  0.95200889,\n",
       "          0.95200889,  0.95200889],\n",
       "        ...,\n",
       "        [ 0.95200889,  0.95200889,  0.95200889, ...,  0.95200889,\n",
       "          0.95200889,  0.95200889],\n",
       "        [ 0.95200889,  0.95200889,  0.95200889, ...,  0.95200889,\n",
       "          0.95200889,  0.95200889],\n",
       "        [ 0.95200889,  0.95200889,  0.95200889, ...,  0.95200889,\n",
       "          0.95200889,  0.95200889]]])\n",
       "Coordinates:\n",
       "    lat      float32 -44.88\n",
       "    time     float32 4.326e+03\n",
       "  * depth    (depth) float64 0.0 5.487 11.68 ... 3.684e+03 3.833e+03 3.982e+03\n",
       "  * y        (y) float64 5e+03 1.5e+04 2.5e+04 ... 2.975e+06 2.985e+06 2.995e+06\n",
       "  * x        (x) float64 5e+03 1.5e+04 2.5e+04 ... 1.975e+06 1.985e+06 1.995e+06</pre><div class='xr-wrap' style='display:none'><div class='xr-header'><div class='xr-obj-type'>xarray.DataArray</div><div class='xr-array-name'>'t_an'</div><ul class='xr-dim-list'><li><span class='xr-has-index'>depth</span>: 50</li><li><span class='xr-has-index'>y</span>: 300</li><li><span class='xr-has-index'>x</span>: 200</li></ul></div><ul class='xr-sections'><li class='xr-section-item'><div class='xr-array-wrap'><input id='section-7048c63c-3660-4ef6-8ce6-8239971c06fb' class='xr-array-in' type='checkbox' checked><label for='section-7048c63c-3660-4ef6-8ce6-8239971c06fb' title='Show/hide data repr'><svg class='icon xr-icon-database'><use xlink:href='#icon-database'></use></svg></label><div class='xr-array-preview xr-preview'><span>10.29 10.29 10.29 10.29 10.29 10.29 ... 0.952 0.952 0.952 0.952 0.952</span></div><div class='xr-array-data'><pre>array([[[10.28932285, 10.28932285, 10.28932285, ..., 10.28932285,\n",
       "         10.28932285, 10.28932285],\n",
       "        [10.28932285, 10.28932285, 10.28932285, ..., 10.28932285,\n",
       "         10.28932285, 10.28932285],\n",
       "        [10.28932285, 10.28932285, 10.28932285, ..., 10.28932285,\n",
       "         10.28932285, 10.28932285],\n",
       "        ...,\n",
       "        [10.28932285, 10.28932285, 10.28932285, ..., 10.28932285,\n",
       "         10.28932285, 10.28932285],\n",
       "        [10.28932285, 10.28932285, 10.28932285, ..., 10.28932285,\n",
       "         10.28932285, 10.28932285],\n",
       "        [10.28932285, 10.28932285, 10.28932285, ..., 10.28932285,\n",
       "         10.28932285, 10.28932285]],\n",
       "\n",
       "       [[10.25963377, 10.25963377, 10.25963377, ..., 10.25963377,\n",
       "         10.25963377, 10.25963377],\n",
       "        [10.25963377, 10.25963377, 10.25963377, ..., 10.25963377,\n",
       "         10.25963377, 10.25963377],\n",
       "        [10.25963377, 10.25963377, 10.25963377, ..., 10.25963377,\n",
       "         10.25963377, 10.25963377],\n",
       "...\n",
       "        [ 1.03906097,  1.03906097,  1.03906097, ...,  1.03906097,\n",
       "          1.03906097,  1.03906097],\n",
       "        [ 1.03906097,  1.03906097,  1.03906097, ...,  1.03906097,\n",
       "          1.03906097,  1.03906097],\n",
       "        [ 1.03906097,  1.03906097,  1.03906097, ...,  1.03906097,\n",
       "          1.03906097,  1.03906097]],\n",
       "\n",
       "       [[ 0.95200889,  0.95200889,  0.95200889, ...,  0.95200889,\n",
       "          0.95200889,  0.95200889],\n",
       "        [ 0.95200889,  0.95200889,  0.95200889, ...,  0.95200889,\n",
       "          0.95200889,  0.95200889],\n",
       "        [ 0.95200889,  0.95200889,  0.95200889, ...,  0.95200889,\n",
       "          0.95200889,  0.95200889],\n",
       "        ...,\n",
       "        [ 0.95200889,  0.95200889,  0.95200889, ...,  0.95200889,\n",
       "          0.95200889,  0.95200889],\n",
       "        [ 0.95200889,  0.95200889,  0.95200889, ...,  0.95200889,\n",
       "          0.95200889,  0.95200889],\n",
       "        [ 0.95200889,  0.95200889,  0.95200889, ...,  0.95200889,\n",
       "          0.95200889,  0.95200889]]])</pre></div></div></li><li class='xr-section-item'><input id='section-3f11a995-ab1a-4561-a71c-2bde0855feab' class='xr-section-summary-in' type='checkbox'  checked><label for='section-3f11a995-ab1a-4561-a71c-2bde0855feab' class='xr-section-summary' >Coordinates: <span>(5)</span></label><div class='xr-section-inline-details'></div><div class='xr-section-details'><ul class='xr-var-list'><li class='xr-var-item'><div class='xr-var-name'><span>lat</span></div><div class='xr-var-dims'>()</div><div class='xr-var-dtype'>float32</div><div class='xr-var-preview xr-preview'>-44.88</div><input id='attrs-fc9ed5ee-fab0-4ab3-8df1-85a01f95164f' class='xr-var-attrs-in' type='checkbox' ><label for='attrs-fc9ed5ee-fab0-4ab3-8df1-85a01f95164f' title='Show/Hide attributes'><svg class='icon xr-icon-file-text2'><use xlink:href='#icon-file-text2'></use></svg></label><input id='data-27a7c73b-5b95-4c5b-b5a5-3359e532b1f4' class='xr-var-data-in' type='checkbox'><label for='data-27a7c73b-5b95-4c5b-b5a5-3359e532b1f4' title='Show/Hide data repr'><svg class='icon xr-icon-database'><use xlink:href='#icon-database'></use></svg></label><div class='xr-var-attrs'><dl class='xr-attrs'><dt><span>standard_name :</span></dt><dd>latitude</dd><dt><span>long_name :</span></dt><dd>latitude</dd><dt><span>units :</span></dt><dd>degrees_north</dd><dt><span>axis :</span></dt><dd>Y</dd><dt><span>bounds :</span></dt><dd>lat_bnds</dd></dl></div><div class='xr-var-data'><pre>array(-44.875, dtype=float32)</pre></div></li><li class='xr-var-item'><div class='xr-var-name'><span>time</span></div><div class='xr-var-dims'>()</div><div class='xr-var-dtype'>float32</div><div class='xr-var-preview xr-preview'>4.326e+03</div><input id='attrs-b8c1b699-d34a-443c-af1b-cfc05322ff01' class='xr-var-attrs-in' type='checkbox' ><label for='attrs-b8c1b699-d34a-443c-af1b-cfc05322ff01' title='Show/Hide attributes'><svg class='icon xr-icon-file-text2'><use xlink:href='#icon-file-text2'></use></svg></label><input id='data-8823ad68-6318-44ff-a2f8-5f7152849060' class='xr-var-data-in' type='checkbox'><label for='data-8823ad68-6318-44ff-a2f8-5f7152849060' title='Show/Hide data repr'><svg class='icon xr-icon-database'><use xlink:href='#icon-database'></use></svg></label><div class='xr-var-attrs'><dl class='xr-attrs'><dt><span>standard_name :</span></dt><dd>time</dd><dt><span>long_name :</span></dt><dd>time</dd><dt><span>units :</span></dt><dd>months since 1955-01-01 00:00:00</dd><dt><span>axis :</span></dt><dd>T</dd><dt><span>climatology :</span></dt><dd>climatology_bounds</dd></dl></div><div class='xr-var-data'><pre>array(4326., dtype=float32)</pre></div></li><li class='xr-var-item'><div class='xr-var-name'><span class='xr-has-index'>depth</span></div><div class='xr-var-dims'>(depth)</div><div class='xr-var-dtype'>float64</div><div class='xr-var-preview xr-preview'>0.0 5.487 ... 3.833e+03 3.982e+03</div><input id='attrs-32ad48e2-db0a-4b8d-9092-86a89821fdf2' class='xr-var-attrs-in' type='checkbox' ><label for='attrs-32ad48e2-db0a-4b8d-9092-86a89821fdf2' title='Show/Hide attributes'><svg class='icon xr-icon-file-text2'><use xlink:href='#icon-file-text2'></use></svg></label><input id='data-cfb92d98-38b1-4e34-90f3-09d1a58f78d2' class='xr-var-data-in' type='checkbox'><label for='data-cfb92d98-38b1-4e34-90f3-09d1a58f78d2' title='Show/Hide data repr'><svg class='icon xr-icon-database'><use xlink:href='#icon-database'></use></svg></label><div class='xr-var-attrs'><dl class='xr-attrs'><dt><span>standard_name :</span></dt><dd>depth</dd><dt><span>bounds :</span></dt><dd>depth_bnds</dd><dt><span>positive :</span></dt><dd>down</dd><dt><span>units :</span></dt><dd>meters</dd><dt><span>axis :</span></dt><dd>Z</dd></dl></div><div class='xr-var-data'><pre>array([   0.      ,    5.487165,   11.681786,   18.674698,   26.568235,\n",
       "         35.477613,   45.532445,   56.878399,   69.678967,   84.117345,\n",
       "        100.398374,  118.750483,  139.427526,  162.710381,  188.908079,\n",
       "        218.358199,  251.426125,  288.502685,  329.999597,  376.342076,\n",
       "        427.957996,  485.263183,  548.642792,  618.429405,  694.879366,\n",
       "        778.149841,  868.279873,  965.178853, 1068.625171, 1178.276164,\n",
       "       1293.688391, 1414.34532 , 1539.68828 , 1669.1465  , 1802.162912,\n",
       "       1938.213793, 2076.82173 , 2217.562473, 2360.066839, 2504.019048,\n",
       "       2649.152772, 2795.245945, 2942.115117, 3089.609871, 3237.607619,\n",
       "       3386.008934, 3534.733491, 3683.716596, 3832.906276, 3982.260862])</pre></div></li><li class='xr-var-item'><div class='xr-var-name'><span class='xr-has-index'>y</span></div><div class='xr-var-dims'>(y)</div><div class='xr-var-dtype'>float64</div><div class='xr-var-preview xr-preview'>5e+03 1.5e+04 ... 2.995e+06</div><input id='attrs-7c30b943-0520-4d98-bc80-b5c918f623dd' class='xr-var-attrs-in' type='checkbox' disabled><label for='attrs-7c30b943-0520-4d98-bc80-b5c918f623dd' title='Show/Hide attributes'><svg class='icon xr-icon-file-text2'><use xlink:href='#icon-file-text2'></use></svg></label><input id='data-1833bdde-f49e-4b7d-8c2e-5b7a57dcd504' class='xr-var-data-in' type='checkbox'><label for='data-1833bdde-f49e-4b7d-8c2e-5b7a57dcd504' title='Show/Hide data repr'><svg class='icon xr-icon-database'><use xlink:href='#icon-database'></use></svg></label><div class='xr-var-attrs'><dl class='xr-attrs'></dl></div><div class='xr-var-data'><pre>array([   5000.,   15000.,   25000., ..., 2975000., 2985000., 2995000.])</pre></div></li><li class='xr-var-item'><div class='xr-var-name'><span class='xr-has-index'>x</span></div><div class='xr-var-dims'>(x)</div><div class='xr-var-dtype'>float64</div><div class='xr-var-preview xr-preview'>5e+03 1.5e+04 ... 1.995e+06</div><input id='attrs-837e224e-6cbd-4087-86e2-a5b834cdc67f' class='xr-var-attrs-in' type='checkbox' disabled><label for='attrs-837e224e-6cbd-4087-86e2-a5b834cdc67f' title='Show/Hide attributes'><svg class='icon xr-icon-file-text2'><use xlink:href='#icon-file-text2'></use></svg></label><input id='data-4e3cd39a-5c0c-4db5-9a79-ee4fc722d331' class='xr-var-data-in' type='checkbox'><label for='data-4e3cd39a-5c0c-4db5-9a79-ee4fc722d331' title='Show/Hide data repr'><svg class='icon xr-icon-database'><use xlink:href='#icon-database'></use></svg></label><div class='xr-var-attrs'><dl class='xr-attrs'></dl></div><div class='xr-var-data'><pre>array([   5000.,   15000.,   25000.,   35000.,   45000.,   55000.,   65000.,\n",
       "         75000.,   85000.,   95000.,  105000.,  115000.,  125000.,  135000.,\n",
       "        145000.,  155000.,  165000.,  175000.,  185000.,  195000.,  205000.,\n",
       "        215000.,  225000.,  235000.,  245000.,  255000.,  265000.,  275000.,\n",
       "        285000.,  295000.,  305000.,  315000.,  325000.,  335000.,  345000.,\n",
       "        355000.,  365000.,  375000.,  385000.,  395000.,  405000.,  415000.,\n",
       "        425000.,  435000.,  445000.,  455000.,  465000.,  475000.,  485000.,\n",
       "        495000.,  505000.,  515000.,  525000.,  535000.,  545000.,  555000.,\n",
       "        565000.,  575000.,  585000.,  595000.,  605000.,  615000.,  625000.,\n",
       "        635000.,  645000.,  655000.,  665000.,  675000.,  685000.,  695000.,\n",
       "        705000.,  715000.,  725000.,  735000.,  745000.,  755000.,  765000.,\n",
       "        775000.,  785000.,  795000.,  805000.,  815000.,  825000.,  835000.,\n",
       "        845000.,  855000.,  865000.,  875000.,  885000.,  895000.,  905000.,\n",
       "        915000.,  925000.,  935000.,  945000.,  955000.,  965000.,  975000.,\n",
       "        985000.,  995000., 1005000., 1015000., 1025000., 1035000., 1045000.,\n",
       "       1055000., 1065000., 1075000., 1085000., 1095000., 1105000., 1115000.,\n",
       "       1125000., 1135000., 1145000., 1155000., 1165000., 1175000., 1185000.,\n",
       "       1195000., 1205000., 1215000., 1225000., 1235000., 1245000., 1255000.,\n",
       "       1265000., 1275000., 1285000., 1295000., 1305000., 1315000., 1325000.,\n",
       "       1335000., 1345000., 1355000., 1365000., 1375000., 1385000., 1395000.,\n",
       "       1405000., 1415000., 1425000., 1435000., 1445000., 1455000., 1465000.,\n",
       "       1475000., 1485000., 1495000., 1505000., 1515000., 1525000., 1535000.,\n",
       "       1545000., 1555000., 1565000., 1575000., 1585000., 1595000., 1605000.,\n",
       "       1615000., 1625000., 1635000., 1645000., 1655000., 1665000., 1675000.,\n",
       "       1685000., 1695000., 1705000., 1715000., 1725000., 1735000., 1745000.,\n",
       "       1755000., 1765000., 1775000., 1785000., 1795000., 1805000., 1815000.,\n",
       "       1825000., 1835000., 1845000., 1855000., 1865000., 1875000., 1885000.,\n",
       "       1895000., 1905000., 1915000., 1925000., 1935000., 1945000., 1955000.,\n",
       "       1965000., 1975000., 1985000., 1995000.])</pre></div></li></ul></div></li><li class='xr-section-item'><input id='section-d72b566e-029a-4372-863a-81e628897d0c' class='xr-section-summary-in' type='checkbox' disabled ><label for='section-d72b566e-029a-4372-863a-81e628897d0c' class='xr-section-summary'  title='Expand/collapse section'>Attributes: <span>(0)</span></label><div class='xr-section-inline-details'></div><div class='xr-section-details'><dl class='xr-attrs'></dl></div></li></ul></div></div>"
      ],
      "text/plain": [
       "<xarray.DataArray 't_an' (depth: 50, y: 300, x: 200)>\n",
       "array([[[10.28932285, 10.28932285, 10.28932285, ..., 10.28932285,\n",
       "         10.28932285, 10.28932285],\n",
       "        [10.28932285, 10.28932285, 10.28932285, ..., 10.28932285,\n",
       "         10.28932285, 10.28932285],\n",
       "        [10.28932285, 10.28932285, 10.28932285, ..., 10.28932285,\n",
       "         10.28932285, 10.28932285],\n",
       "        ...,\n",
       "        [10.28932285, 10.28932285, 10.28932285, ..., 10.28932285,\n",
       "         10.28932285, 10.28932285],\n",
       "        [10.28932285, 10.28932285, 10.28932285, ..., 10.28932285,\n",
       "         10.28932285, 10.28932285],\n",
       "        [10.28932285, 10.28932285, 10.28932285, ..., 10.28932285,\n",
       "         10.28932285, 10.28932285]],\n",
       "\n",
       "       [[10.25963377, 10.25963377, 10.25963377, ..., 10.25963377,\n",
       "         10.25963377, 10.25963377],\n",
       "        [10.25963377, 10.25963377, 10.25963377, ..., 10.25963377,\n",
       "         10.25963377, 10.25963377],\n",
       "        [10.25963377, 10.25963377, 10.25963377, ..., 10.25963377,\n",
       "         10.25963377, 10.25963377],\n",
       "...\n",
       "        [ 1.03906097,  1.03906097,  1.03906097, ...,  1.03906097,\n",
       "          1.03906097,  1.03906097],\n",
       "        [ 1.03906097,  1.03906097,  1.03906097, ...,  1.03906097,\n",
       "          1.03906097,  1.03906097],\n",
       "        [ 1.03906097,  1.03906097,  1.03906097, ...,  1.03906097,\n",
       "          1.03906097,  1.03906097]],\n",
       "\n",
       "       [[ 0.95200889,  0.95200889,  0.95200889, ...,  0.95200889,\n",
       "          0.95200889,  0.95200889],\n",
       "        [ 0.95200889,  0.95200889,  0.95200889, ...,  0.95200889,\n",
       "          0.95200889,  0.95200889],\n",
       "        [ 0.95200889,  0.95200889,  0.95200889, ...,  0.95200889,\n",
       "          0.95200889,  0.95200889],\n",
       "        ...,\n",
       "        [ 0.95200889,  0.95200889,  0.95200889, ...,  0.95200889,\n",
       "          0.95200889,  0.95200889],\n",
       "        [ 0.95200889,  0.95200889,  0.95200889, ...,  0.95200889,\n",
       "          0.95200889,  0.95200889],\n",
       "        [ 0.95200889,  0.95200889,  0.95200889, ...,  0.95200889,\n",
       "          0.95200889,  0.95200889]]])\n",
       "Coordinates:\n",
       "    lat      float32 -44.88\n",
       "    time     float32 4.326e+03\n",
       "  * depth    (depth) float64 0.0 5.487 11.68 ... 3.684e+03 3.833e+03 3.982e+03\n",
       "  * y        (y) float64 5e+03 1.5e+04 2.5e+04 ... 2.975e+06 2.985e+06 2.995e+06\n",
       "  * x        (x) float64 5e+03 1.5e+04 2.5e+04 ... 1.975e+06 1.985e+06 1.995e+06"
      ]
     },
     "execution_count": 43,
     "metadata": {},
     "output_type": "execute_result"
    }
   ],
   "source": [
    "WOA_temperature"
   ]
  },
  {
   "cell_type": "code",
   "execution_count": 44,
   "id": "1ae03a2c-6b91-4065-92e0-b9e853ad5877",
   "metadata": {},
   "outputs": [],
   "source": [
    "WOA_temperature.data.astype('>f4').tofile('{0}WOA_temperature_IC.bin'.format(input_dir))\n",
    "WOA_salt.data.astype('>f4').tofile('{0}WOA_salt_IC.bin'.format(input_dir))"
   ]
  },
  {
   "cell_type": "markdown",
   "id": "969d85fd-3edf-46c6-98e3-cb407aa26919",
   "metadata": {},
   "source": [
    "## RBCS mask"
   ]
  },
  {
   "cell_type": "code",
   "execution_count": 45,
   "id": "094dd345-28e6-42ec-a83f-16a7746c2d22",
   "metadata": {},
   "outputs": [],
   "source": [
    "Wmask = 20e3\n",
    "Ymask = 3e6 - 2.5*Wmask\n",
    "\n",
    "# define using a tanh to ramp from zero to one\n",
    "mask_RBCS = 0.5*(1 + np.tanh((Y - Ymask)/Wmask))\n",
    "\n",
    "mask_RBCS = xr.DataArray(mask_RBCS, coords={ 'y':y, 'x':x}, dims=['y', 'x'])\n",
    "# broadcast to the three spatial dimensions\n",
    "mask_RBCS = xr.DataArray(np.ones([len(z)]), coords={'z':z}, dims=['z'])*mask_RBCS\n"
   ]
  },
  {
   "cell_type": "code",
   "execution_count": 46,
   "id": "cbe9e909-8a65-4909-b860-63387fc3597b",
   "metadata": {},
   "outputs": [
    {
     "data": {
      "text/plain": [
       "(0.0, 1.0)"
      ]
     },
     "execution_count": 46,
     "metadata": {},
     "output_type": "execute_result"
    },
    {
     "data": {
      "image/png": "[encoded data removed]",
      "text/plain": [
       "<Figure size 432x288 with 1 Axes>"
      ]
     },
     "metadata": {
      "needs_background": "light"
     },
     "output_type": "display_data"
    }
   ],
   "source": [
    "plt.plot(y, mask_RBCS.sel(z=0, method='nearest').sel(x=0, method='nearest'))\n",
    "plt.xlim(2.6e6,3e6)\n",
    "plt.ylim(0,1)"
   ]
  },
  {
   "cell_type": "code",
   "execution_count": 47,
   "id": "e37d661c-4224-4176-a0a0-af7c36e28bde",
   "metadata": {},
   "outputs": [],
   "source": [
    "mask_RBCS.data.astype('>f4').tofile('{0}mask_RBCS.bin'.format(input_dir))"
   ]
  },
  {
   "cell_type": "code",
   "execution_count": null,
   "id": "e4ba661b-1ddf-4b43-b3ff-37a63bdb981f",
   "metadata": {},
   "outputs": [],
   "source": []
  },
  {
   "cell_type": "code",
   "execution_count": null,
   "id": "e4992d9d-b901-4952-8447-a8dbdbec26de",
   "metadata": {},
   "outputs": [],
   "source": []
  }
 ],
 "metadata": {
  "kernelspec": {
   "display_name": "Python 3 (ipykernel)",
   "language": "python",
   "name": "python3"
  },
  "language_info": {
   "codemirror_mode": {
    "name": "ipython",
    "version": 3
   },
   "file_extension": ".py",
   "mimetype": "text/x-python",
   "name": "python",
   "nbconvert_exporter": "python",
   "pygments_lexer": "ipython3",
   "version": "3.9.13"
  }
 },
 "nbformat": 4,
 "nbformat_minor": 5
}
